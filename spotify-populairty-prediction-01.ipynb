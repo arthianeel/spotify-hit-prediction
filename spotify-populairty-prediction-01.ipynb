{
 "cells": [
  {
   "cell_type": "code",
   "execution_count": 2,
   "id": "0764edd0",
   "metadata": {
    "_cell_guid": "b1076dfc-b9ad-4769-8c92-a6c4dae69d19",
    "_uuid": "8f2839f25d086af736a60e9eeb907d3b93b6e0e5",
    "execution": {
     "iopub.execute_input": "2022-10-19T12:07:02.091736Z",
     "iopub.status.busy": "2022-10-19T12:07:02.090693Z",
     "iopub.status.idle": "2022-10-19T12:07:02.116468Z",
     "shell.execute_reply": "2022-10-19T12:07:02.115584Z"
    },
    "papermill": {
     "duration": 0.040248,
     "end_time": "2022-10-19T12:07:02.120387",
     "exception": false,
     "start_time": "2022-10-19T12:07:02.080139",
     "status": "completed"
    },
    "tags": []
   },
   "outputs": [],
   "source": [
    "import numpy as np \n",
    "import pandas as pd "
   ]
  },
  {
   "cell_type": "code",
   "execution_count": 69,
   "id": "a5bcc816",
   "metadata": {
    "execution": {
     "iopub.execute_input": "2022-10-19T12:07:02.147549Z",
     "iopub.status.busy": "2022-10-19T12:07:02.146763Z",
     "iopub.status.idle": "2022-10-19T12:07:03.336486Z",
     "shell.execute_reply": "2022-10-19T12:07:03.335454Z"
    },
    "papermill": {
     "duration": 1.200322,
     "end_time": "2022-10-19T12:07:03.339336",
     "exception": false,
     "start_time": "2022-10-19T12:07:02.139014",
     "status": "completed"
    },
    "tags": []
   },
   "outputs": [],
   "source": [
    "import matplotlib.pyplot as plt\n",
    "import seaborn as sns"
   ]
  },
  {
   "cell_type": "code",
   "execution_count": 4,
   "id": "a79b40a8",
   "metadata": {
    "execution": {
     "iopub.execute_input": "2022-10-19T12:07:03.354282Z",
     "iopub.status.busy": "2022-10-19T12:07:03.353371Z",
     "iopub.status.idle": "2022-10-19T12:07:03.834835Z",
     "shell.execute_reply": "2022-10-19T12:07:03.833858Z"
    },
    "papermill": {
     "duration": 0.491767,
     "end_time": "2022-10-19T12:07:03.837742",
     "exception": false,
     "start_time": "2022-10-19T12:07:03.345975",
     "status": "completed"
    },
    "tags": []
   },
   "outputs": [],
   "source": [
    "\n",
    "from sklearn.model_selection import train_test_split\n",
    "from sklearn import preprocessing\n",
    "\n",
    "#Model\n",
    "from sklearn.linear_model import LogisticRegression\n",
    "from sklearn.neighbors import KNeighborsClassifier\n",
    "from sklearn.tree import DecisionTreeClassifier\n",
    "from sklearn.svm import LinearSVC, SVC\n",
    "from sklearn.neural_network import MLPClassifier\n",
    "from sklearn.ensemble import RandomForestClassifier, GradientBoostingClassifier"
   ]
  },
  {
   "cell_type": "code",
   "execution_count": 5,
   "id": "5b305737",
   "metadata": {
    "execution": {
     "iopub.execute_input": "2022-10-19T12:07:03.852054Z",
     "iopub.status.busy": "2022-10-19T12:07:03.851381Z",
     "iopub.status.idle": "2022-10-19T12:07:03.944392Z",
     "shell.execute_reply": "2022-10-19T12:07:03.942714Z"
    },
    "papermill": {
     "duration": 0.103078,
     "end_time": "2022-10-19T12:07:03.947002",
     "exception": false,
     "start_time": "2022-10-19T12:07:03.843924",
     "status": "completed"
    },
    "tags": []
   },
   "outputs": [],
   "source": [
    "data = [pd.read_csv(f'dataset-of-{decade}0s.csv') for decade in ['6', '7', '8', '9', '0', '1']]"
   ]
  },
  {
   "cell_type": "code",
   "execution_count": 6,
   "id": "3ae056fa",
   "metadata": {},
   "outputs": [],
   "source": [
    "for i, decade in enumerate([1960, 1970, 1980, 1990, 2000, 2010]):\n",
    "    data[i]['decade'] = pd.Series(decade, index=data[i].index)\n",
    "\n",
    "data = pd.concat(data, axis=0).sample(frac=1.0, random_state=1).reset_index(drop=True)"
   ]
  },
  {
   "cell_type": "code",
   "execution_count": 7,
   "id": "79793aad",
   "metadata": {},
   "outputs": [
    {
     "data": {
      "application/vnd.jupyter.widget-view+json": {
       "model_id": "8924b5032b0441198e9e355cf18b1de6",
       "version_major": 2,
       "version_minor": 0
      },
      "text/plain": [
       "Summarize dataset:   0%|          | 0/5 [00:00<?, ?it/s]"
      ]
     },
     "metadata": {},
     "output_type": "display_data"
    },
    {
     "data": {
      "application/vnd.jupyter.widget-view+json": {
       "model_id": "2ab1f235f2b143179d35995d50a9a41e",
       "version_major": 2,
       "version_minor": 0
      },
      "text/plain": [
       "Generate report structure:   0%|          | 0/1 [00:00<?, ?it/s]"
      ]
     },
     "metadata": {},
     "output_type": "display_data"
    },
    {
     "data": {
      "application/vnd.jupyter.widget-view+json": {
       "model_id": "6451371fb441460e8fc6113e3181f94a",
       "version_major": 2,
       "version_minor": 0
      },
      "text/plain": [
       "Render HTML:   0%|          | 0/1 [00:00<?, ?it/s]"
      ]
     },
     "metadata": {},
     "output_type": "display_data"
    },
    {
     "data": {
      "application/vnd.jupyter.widget-view+json": {
       "model_id": "63098b54f4154592aa9d025b9247b053",
       "version_major": 2,
       "version_minor": 0
      },
      "text/plain": [
       "Export report to file:   0%|          | 0/1 [00:00<?, ?it/s]"
      ]
     },
     "metadata": {},
     "output_type": "display_data"
    }
   ],
   "source": [
    "from pandas_profiling import ProfileReport\n",
    "prof = ProfileReport(data)\n",
    "prof.to_file(output_file='output.html')"
   ]
  },
  {
   "attachments": {},
   "cell_type": "markdown",
   "id": "40631f3a",
   "metadata": {},
   "source": [
    "# EDA"
   ]
  },
  {
   "cell_type": "code",
   "execution_count": 8,
   "id": "aa49c8b7",
   "metadata": {},
   "outputs": [
    {
     "data": {
      "text/html": [
       "<div>\n",
       "<style scoped>\n",
       "    .dataframe tbody tr th:only-of-type {\n",
       "        vertical-align: middle;\n",
       "    }\n",
       "\n",
       "    .dataframe tbody tr th {\n",
       "        vertical-align: top;\n",
       "    }\n",
       "\n",
       "    .dataframe thead th {\n",
       "        text-align: right;\n",
       "    }\n",
       "</style>\n",
       "<table border=\"1\" class=\"dataframe\">\n",
       "  <thead>\n",
       "    <tr style=\"text-align: right;\">\n",
       "      <th></th>\n",
       "      <th>track</th>\n",
       "      <th>artist</th>\n",
       "      <th>uri</th>\n",
       "      <th>danceability</th>\n",
       "      <th>energy</th>\n",
       "      <th>key</th>\n",
       "      <th>loudness</th>\n",
       "      <th>mode</th>\n",
       "      <th>speechiness</th>\n",
       "      <th>acousticness</th>\n",
       "      <th>instrumentalness</th>\n",
       "      <th>liveness</th>\n",
       "      <th>valence</th>\n",
       "      <th>tempo</th>\n",
       "      <th>duration_ms</th>\n",
       "      <th>time_signature</th>\n",
       "      <th>chorus_hit</th>\n",
       "      <th>sections</th>\n",
       "      <th>target</th>\n",
       "      <th>decade</th>\n",
       "    </tr>\n",
       "  </thead>\n",
       "  <tbody>\n",
       "    <tr>\n",
       "      <th>0</th>\n",
       "      <td>Attaining - Take 1 / Alternate Version</td>\n",
       "      <td>John Coltrane</td>\n",
       "      <td>spotify:track:3EwLV5hZqLKx5e0Lp1QcB7</td>\n",
       "      <td>0.342</td>\n",
       "      <td>0.462</td>\n",
       "      <td>4</td>\n",
       "      <td>-12.931</td>\n",
       "      <td>0</td>\n",
       "      <td>0.0389</td>\n",
       "      <td>0.51400</td>\n",
       "      <td>0.018100</td>\n",
       "      <td>0.0977</td>\n",
       "      <td>0.397</td>\n",
       "      <td>98.466</td>\n",
       "      <td>816867</td>\n",
       "      <td>4</td>\n",
       "      <td>24.84938</td>\n",
       "      <td>33</td>\n",
       "      <td>0</td>\n",
       "      <td>1970</td>\n",
       "    </tr>\n",
       "    <tr>\n",
       "      <th>1</th>\n",
       "      <td>So Fly</td>\n",
       "      <td>NB Ridaz Featuring Gemini</td>\n",
       "      <td>spotify:track:2BjIi07kN0yKSur0Fwrnss</td>\n",
       "      <td>0.861</td>\n",
       "      <td>0.519</td>\n",
       "      <td>2</td>\n",
       "      <td>-6.404</td>\n",
       "      <td>1</td>\n",
       "      <td>0.1120</td>\n",
       "      <td>0.13600</td>\n",
       "      <td>0.000000</td>\n",
       "      <td>0.1230</td>\n",
       "      <td>0.519</td>\n",
       "      <td>81.966</td>\n",
       "      <td>254533</td>\n",
       "      <td>4</td>\n",
       "      <td>50.03590</td>\n",
       "      <td>11</td>\n",
       "      <td>1</td>\n",
       "      <td>2000</td>\n",
       "    </tr>\n",
       "    <tr>\n",
       "      <th>2</th>\n",
       "      <td>Because I Got It Like That</td>\n",
       "      <td>Jungle Brothers</td>\n",
       "      <td>spotify:track:5unLExF3iiG3YkU11u6wFO</td>\n",
       "      <td>0.900</td>\n",
       "      <td>0.916</td>\n",
       "      <td>1</td>\n",
       "      <td>-7.481</td>\n",
       "      <td>0</td>\n",
       "      <td>0.1150</td>\n",
       "      <td>0.22000</td>\n",
       "      <td>0.000141</td>\n",
       "      <td>0.0323</td>\n",
       "      <td>0.538</td>\n",
       "      <td>102.916</td>\n",
       "      <td>277894</td>\n",
       "      <td>4</td>\n",
       "      <td>24.71271</td>\n",
       "      <td>16</td>\n",
       "      <td>0</td>\n",
       "      <td>1980</td>\n",
       "    </tr>\n",
       "    <tr>\n",
       "      <th>3</th>\n",
       "      <td>Babylon a Fall - Remastered</td>\n",
       "      <td>Yabby You</td>\n",
       "      <td>spotify:track:6xfe0G2HwRDQaChxkzvNKw</td>\n",
       "      <td>0.714</td>\n",
       "      <td>0.301</td>\n",
       "      <td>2</td>\n",
       "      <td>-14.800</td>\n",
       "      <td>1</td>\n",
       "      <td>0.1230</td>\n",
       "      <td>0.15600</td>\n",
       "      <td>0.661000</td>\n",
       "      <td>0.2290</td>\n",
       "      <td>0.651</td>\n",
       "      <td>74.856</td>\n",
       "      <td>357671</td>\n",
       "      <td>4</td>\n",
       "      <td>104.64231</td>\n",
       "      <td>11</td>\n",
       "      <td>0</td>\n",
       "      <td>1970</td>\n",
       "    </tr>\n",
       "    <tr>\n",
       "      <th>4</th>\n",
       "      <td>Fins</td>\n",
       "      <td>Jimmy Buffett</td>\n",
       "      <td>spotify:track:4h0gZ422QxBRdTV14u0P8y</td>\n",
       "      <td>0.661</td>\n",
       "      <td>0.645</td>\n",
       "      <td>4</td>\n",
       "      <td>-13.520</td>\n",
       "      <td>1</td>\n",
       "      <td>0.0487</td>\n",
       "      <td>0.00895</td>\n",
       "      <td>0.000000</td>\n",
       "      <td>0.0362</td>\n",
       "      <td>0.930</td>\n",
       "      <td>136.693</td>\n",
       "      <td>204640</td>\n",
       "      <td>4</td>\n",
       "      <td>31.99617</td>\n",
       "      <td>10</td>\n",
       "      <td>1</td>\n",
       "      <td>1970</td>\n",
       "    </tr>\n",
       "  </tbody>\n",
       "</table>\n",
       "</div>"
      ],
      "text/plain": [
       "                                    track                     artist  \\\n",
       "0  Attaining - Take 1 / Alternate Version              John Coltrane   \n",
       "1                                  So Fly  NB Ridaz Featuring Gemini   \n",
       "2              Because I Got It Like That            Jungle Brothers   \n",
       "3             Babylon a Fall - Remastered                  Yabby You   \n",
       "4                                    Fins              Jimmy Buffett   \n",
       "\n",
       "                                    uri  danceability  energy  key  loudness  \\\n",
       "0  spotify:track:3EwLV5hZqLKx5e0Lp1QcB7         0.342   0.462    4   -12.931   \n",
       "1  spotify:track:2BjIi07kN0yKSur0Fwrnss         0.861   0.519    2    -6.404   \n",
       "2  spotify:track:5unLExF3iiG3YkU11u6wFO         0.900   0.916    1    -7.481   \n",
       "3  spotify:track:6xfe0G2HwRDQaChxkzvNKw         0.714   0.301    2   -14.800   \n",
       "4  spotify:track:4h0gZ422QxBRdTV14u0P8y         0.661   0.645    4   -13.520   \n",
       "\n",
       "   mode  speechiness  acousticness  instrumentalness  liveness  valence  \\\n",
       "0     0       0.0389       0.51400          0.018100    0.0977    0.397   \n",
       "1     1       0.1120       0.13600          0.000000    0.1230    0.519   \n",
       "2     0       0.1150       0.22000          0.000141    0.0323    0.538   \n",
       "3     1       0.1230       0.15600          0.661000    0.2290    0.651   \n",
       "4     1       0.0487       0.00895          0.000000    0.0362    0.930   \n",
       "\n",
       "     tempo  duration_ms  time_signature  chorus_hit  sections  target  decade  \n",
       "0   98.466       816867               4    24.84938        33       0    1970  \n",
       "1   81.966       254533               4    50.03590        11       1    2000  \n",
       "2  102.916       277894               4    24.71271        16       0    1980  \n",
       "3   74.856       357671               4   104.64231        11       0    1970  \n",
       "4  136.693       204640               4    31.99617        10       1    1970  "
      ]
     },
     "execution_count": 8,
     "metadata": {},
     "output_type": "execute_result"
    }
   ],
   "source": [
    "data.head()"
   ]
  },
  {
   "cell_type": "code",
   "execution_count": 9,
   "id": "1ef18cf3",
   "metadata": {
    "execution": {
     "iopub.execute_input": "2022-10-19T12:07:03.960851Z",
     "iopub.status.busy": "2022-10-19T12:07:03.960437Z",
     "iopub.status.idle": "2022-10-19T12:07:03.988517Z",
     "shell.execute_reply": "2022-10-19T12:07:03.986466Z"
    },
    "papermill": {
     "duration": 0.038164,
     "end_time": "2022-10-19T12:07:03.991456",
     "exception": false,
     "start_time": "2022-10-19T12:07:03.953292",
     "status": "completed"
    },
    "tags": []
   },
   "outputs": [
    {
     "name": "stdout",
     "output_type": "stream",
     "text": [
      "<class 'pandas.core.frame.DataFrame'>\n",
      "RangeIndex: 41106 entries, 0 to 41105\n",
      "Data columns (total 20 columns):\n",
      " #   Column            Non-Null Count  Dtype  \n",
      "---  ------            --------------  -----  \n",
      " 0   track             41106 non-null  object \n",
      " 1   artist            41106 non-null  object \n",
      " 2   uri               41106 non-null  object \n",
      " 3   danceability      41106 non-null  float64\n",
      " 4   energy            41106 non-null  float64\n",
      " 5   key               41106 non-null  int64  \n",
      " 6   loudness          41106 non-null  float64\n",
      " 7   mode              41106 non-null  int64  \n",
      " 8   speechiness       41106 non-null  float64\n",
      " 9   acousticness      41106 non-null  float64\n",
      " 10  instrumentalness  41106 non-null  float64\n",
      " 11  liveness          41106 non-null  float64\n",
      " 12  valence           41106 non-null  float64\n",
      " 13  tempo             41106 non-null  float64\n",
      " 14  duration_ms       41106 non-null  int64  \n",
      " 15  time_signature    41106 non-null  int64  \n",
      " 16  chorus_hit        41106 non-null  float64\n",
      " 17  sections          41106 non-null  int64  \n",
      " 18  target            41106 non-null  int64  \n",
      " 19  decade            41106 non-null  int64  \n",
      "dtypes: float64(10), int64(7), object(3)\n",
      "memory usage: 6.3+ MB\n"
     ]
    }
   ],
   "source": [
    "data.info()"
   ]
  },
  {
   "cell_type": "code",
   "execution_count": 10,
   "id": "28d6ea7a",
   "metadata": {
    "execution": {
     "iopub.execute_input": "2022-10-19T12:07:04.006661Z",
     "iopub.status.busy": "2022-10-19T12:07:04.005168Z",
     "iopub.status.idle": "2022-10-19T12:07:04.019787Z",
     "shell.execute_reply": "2022-10-19T12:07:04.018308Z"
    },
    "papermill": {
     "duration": 0.025251,
     "end_time": "2022-10-19T12:07:04.022692",
     "exception": false,
     "start_time": "2022-10-19T12:07:03.997441",
     "status": "completed"
    },
    "tags": []
   },
   "outputs": [
    {
     "data": {
      "text/plain": [
       "track               0\n",
       "artist              0\n",
       "uri                 0\n",
       "danceability        0\n",
       "energy              0\n",
       "key                 0\n",
       "loudness            0\n",
       "mode                0\n",
       "speechiness         0\n",
       "acousticness        0\n",
       "instrumentalness    0\n",
       "liveness            0\n",
       "valence             0\n",
       "tempo               0\n",
       "duration_ms         0\n",
       "time_signature      0\n",
       "chorus_hit          0\n",
       "sections            0\n",
       "target              0\n",
       "decade              0\n",
       "dtype: int64"
      ]
     },
     "execution_count": 10,
     "metadata": {},
     "output_type": "execute_result"
    }
   ],
   "source": [
    "#Check Any Null Value\n",
    "pd.isnull(data).sum()"
   ]
  },
  {
   "attachments": {},
   "cell_type": "markdown",
   "id": "d75ca54a",
   "metadata": {},
   "source": [
    "**Univariate Analysis of every column**"
   ]
  },
  {
   "cell_type": "code",
   "execution_count": 11,
   "id": "07661ae5",
   "metadata": {},
   "outputs": [
    {
     "name": "stdout",
     "output_type": "stream",
     "text": [
      "0    20553\n",
      "1    20553\n",
      "Name: target, dtype: int64\n"
     ]
    }
   ],
   "source": [
    "print(data['target'].value_counts())"
   ]
  },
  {
   "cell_type": "code",
   "execution_count": 73,
   "id": "95c64744",
   "metadata": {},
   "outputs": [],
   "source": [
    "# Plot the distribution of the target variable\n",
    "sns.countplot(x='target', data=data)\n",
    "plt.show()"
   ]
  },
  {
   "cell_type": "code",
   "execution_count": null,
   "id": "956ffb7f",
   "metadata": {},
   "outputs": [
    {
     "name": "stdout",
     "output_type": "stream",
     "text": [
      "Proportion of target values that are 1: 0.5\n"
     ]
    }
   ],
   "source": [
    "# calculate the proportion of target values that are 1\n",
    "prop_1 = data[data['target'] == 1].shape[0] / data.shape[0]\n",
    "print(\"Proportion of target values that are 1:\", prop_1)"
   ]
  },
  {
   "cell_type": "code",
   "execution_count": 15,
   "id": "176e9b3b",
   "metadata": {},
   "outputs": [
    {
     "name": "stdout",
     "output_type": "stream",
     "text": [
      "danceability             0.601237\n",
      "energy                   0.624296\n",
      "key                      5.248528\n",
      "loudness                -8.702237\n",
      "mode                     0.730064\n",
      "speechiness              0.069444\n",
      "acousticness             0.280814\n",
      "instrumentalness         0.030687\n",
      "liveness                 0.192637\n",
      "valence                  0.609578\n",
      "tempo                  120.288280\n",
      "duration_ms         226095.539970\n",
      "time_signature           3.938063\n",
      "chorus_hit              39.224034\n",
      "sections                10.183380\n",
      "target                   1.000000\n",
      "decade                1982.775264\n",
      "dtype: float64\n"
     ]
    },
    {
     "name": "stderr",
     "output_type": "stream",
     "text": [
      "C:\\Users\\m\\AppData\\Local\\Temp\\ipykernel_16056\\603395626.py:2: FutureWarning: Dropping of nuisance columns in DataFrame reductions (with 'numeric_only=None') is deprecated; in a future version this will raise TypeError.  Select only valid columns before calling the reduction.\n",
      "  print(data.loc[data['target'] == 1].mean())\n"
     ]
    }
   ],
   "source": [
    "# calculate the mean of other columns for observations where target is 1\n",
    "print(data.loc[data['target'] == 1].mean())"
   ]
  },
  {
   "cell_type": "code",
   "execution_count": 74,
   "id": "4ace8ba1",
   "metadata": {},
   "outputs": [
    {
     "name": "stdout",
     "output_type": "stream",
     "text": [
      "danceability             0.478153\n",
      "energy                   0.534794\n",
      "key                      5.178660\n",
      "loudness               -11.740813\n",
      "mode                     0.656644\n",
      "speechiness              0.076477\n",
      "acousticness             0.447581\n",
      "instrumentalness         0.278145\n",
      "liveness                 0.210432\n",
      "valence                  0.475302\n",
      "tempo                  118.388219\n",
      "duration_ms         243659.560940\n",
      "time_signature           3.849316\n",
      "chorus_hit              40.988048\n",
      "sections                10.767966\n",
      "target                   0.000000\n",
      "decade                1982.775264\n",
      "year                  1982.775264\n",
      "hit                      0.000000\n",
      "dtype: float64\n"
     ]
    }
   ],
   "source": [
    "# calculate the mean of other columns for observations where target is 0\n",
    "print(data.loc[data['target'] == 0].mean())"
   ]
  },
  {
   "cell_type": "code",
   "execution_count": 75,
   "id": "9b80baf3",
   "metadata": {},
   "outputs": [],
   "source": [
    "# create a box plot to compare the distribution of other columns between target 0 and target 1\n",
    "columns_to_compare = ['danceability', 'energy', 'loudness', 'valence']\n",
    "for column in columns_to_compare:\n",
    "    sns.boxplot(x='target', y=column, data=data)\n",
    "    plt.show()"
   ]
  },
  {
   "cell_type": "code",
   "execution_count": 18,
   "id": "ad5baf28",
   "metadata": {},
   "outputs": [
    {
     "name": "stdout",
     "output_type": "stream",
     "text": [
      "count    41106.000000\n",
      "mean         0.539695\n",
      "std          0.177821\n",
      "min          0.000000\n",
      "25%          0.420000\n",
      "50%          0.552000\n",
      "75%          0.669000\n",
      "max          0.988000\n",
      "Name: danceability, dtype: float64\n"
     ]
    }
   ],
   "source": [
    "# get summary statistics of the danceability column\n",
    "print(data['danceability'].describe())"
   ]
  },
  {
   "cell_type": "code",
   "execution_count": 19,
   "id": "d2fa3541",
   "metadata": {},
   "outputs": [
    {
     "name": "stderr",
     "output_type": "stream",
     "text": [
      "C:\\Users\\m\\AppData\\Local\\Temp\\ipykernel_16056\\164479068.py:2: UserWarning: \n",
      "\n",
      "`distplot` is a deprecated function and will be removed in seaborn v0.14.0.\n",
      "\n",
      "Please adapt your code to use either `displot` (a figure-level function with\n",
      "similar flexibility) or `histplot` (an axes-level function for histograms).\n",
      "\n",
      "For a guide to updating your code to use the new functions, please see\n",
      "https://gist.github.com/mwaskom/de44147ed2974457ad6372750bbe5751\n",
      "\n",
      "  sns.distplot(data['danceability'])\n",
      "C:\\Users\\m\\AppData\\Local\\Temp\\ipykernel_16056\\164479068.py:3: UserWarning: Matplotlib is currently using module://matplotlib_inline.backend_inline, which is a non-GUI backend, so cannot show the figure.\n",
      "  plt.show()\n"
     ]
    }
   ],
   "source": [
    "# Plot the distribution of the danceability variable\n",
    "sns.distplot(data['danceability'])\n",
    "plt.show()"
   ]
  },
  {
   "cell_type": "code",
   "execution_count": 20,
   "id": "71a83512",
   "metadata": {},
   "outputs": [
    {
     "name": "stderr",
     "output_type": "stream",
     "text": [
      "C:\\Users\\m\\AppData\\Local\\Temp\\ipykernel_16056\\3219671053.py:3: UserWarning: Matplotlib is currently using module://matplotlib_inline.backend_inline, which is a non-GUI backend, so cannot show the figure.\n",
      "  plt.show()\n"
     ]
    }
   ],
   "source": [
    "# check for outliers in the danceability column\n",
    "sns.boxplot(x=data['danceability'])\n",
    "plt.show()"
   ]
  },
  {
   "cell_type": "code",
   "execution_count": 21,
   "id": "64adf37b",
   "metadata": {},
   "outputs": [
    {
     "name": "stdout",
     "output_type": "stream",
     "text": [
      "count    41106.000000\n",
      "mean         0.579545\n",
      "std          0.252628\n",
      "min          0.000251\n",
      "25%          0.396000\n",
      "50%          0.601000\n",
      "75%          0.787000\n",
      "max          1.000000\n",
      "Name: energy, dtype: float64\n"
     ]
    }
   ],
   "source": [
    "# get summary statistics of the energy column\n",
    "print(data['energy'].describe())\n"
   ]
  },
  {
   "cell_type": "code",
   "execution_count": 22,
   "id": "51a180e7",
   "metadata": {},
   "outputs": [
    {
     "name": "stderr",
     "output_type": "stream",
     "text": [
      "C:\\Users\\m\\AppData\\Local\\Temp\\ipykernel_16056\\399186095.py:2: UserWarning: \n",
      "\n",
      "`distplot` is a deprecated function and will be removed in seaborn v0.14.0.\n",
      "\n",
      "Please adapt your code to use either `displot` (a figure-level function with\n",
      "similar flexibility) or `histplot` (an axes-level function for histograms).\n",
      "\n",
      "For a guide to updating your code to use the new functions, please see\n",
      "https://gist.github.com/mwaskom/de44147ed2974457ad6372750bbe5751\n",
      "\n",
      "  sns.distplot(data['energy'])\n",
      "C:\\Users\\m\\AppData\\Local\\Temp\\ipykernel_16056\\399186095.py:3: UserWarning: Matplotlib is currently using module://matplotlib_inline.backend_inline, which is a non-GUI backend, so cannot show the figure.\n",
      "  plt.show()\n"
     ]
    }
   ],
   "source": [
    "# Plot the distribution of the energy variable\n",
    "sns.distplot(data['energy'])\n",
    "plt.show()"
   ]
  },
  {
   "cell_type": "code",
   "execution_count": 23,
   "id": "f490e1e1",
   "metadata": {},
   "outputs": [
    {
     "name": "stderr",
     "output_type": "stream",
     "text": [
      "C:\\Users\\m\\AppData\\Local\\Temp\\ipykernel_16056\\2279068549.py:3: UserWarning: Matplotlib is currently using module://matplotlib_inline.backend_inline, which is a non-GUI backend, so cannot show the figure.\n",
      "  plt.show()\n"
     ]
    }
   ],
   "source": [
    "# check for outliers in the energy column\n",
    "sns.boxplot(x=data['energy'])\n",
    "plt.show()"
   ]
  },
  {
   "cell_type": "code",
   "execution_count": 24,
   "id": "009489ff",
   "metadata": {},
   "outputs": [
    {
     "name": "stderr",
     "output_type": "stream",
     "text": [
      "C:\\Users\\m\\AppData\\Local\\Temp\\ipykernel_16056\\2736522257.py:2: UserWarning: \n",
      "\n",
      "`distplot` is a deprecated function and will be removed in seaborn v0.14.0.\n",
      "\n",
      "Please adapt your code to use either `displot` (a figure-level function with\n",
      "similar flexibility) or `histplot` (an axes-level function for histograms).\n",
      "\n",
      "For a guide to updating your code to use the new functions, please see\n",
      "https://gist.github.com/mwaskom/de44147ed2974457ad6372750bbe5751\n",
      "\n",
      "  sns.distplot(data['loudness'])\n",
      "C:\\Users\\m\\AppData\\Local\\Temp\\ipykernel_16056\\2736522257.py:3: UserWarning: Matplotlib is currently using module://matplotlib_inline.backend_inline, which is a non-GUI backend, so cannot show the figure.\n",
      "  plt.show()\n"
     ]
    }
   ],
   "source": [
    "# Plot the distribution of the loudness variable\n",
    "sns.distplot(data['loudness'])\n",
    "plt.show()"
   ]
  },
  {
   "cell_type": "code",
   "execution_count": 25,
   "id": "85a341a2",
   "metadata": {},
   "outputs": [
    {
     "name": "stderr",
     "output_type": "stream",
     "text": [
      "C:\\Users\\m\\AppData\\Local\\Temp\\ipykernel_16056\\12964489.py:2: UserWarning: \n",
      "\n",
      "`distplot` is a deprecated function and will be removed in seaborn v0.14.0.\n",
      "\n",
      "Please adapt your code to use either `displot` (a figure-level function with\n",
      "similar flexibility) or `histplot` (an axes-level function for histograms).\n",
      "\n",
      "For a guide to updating your code to use the new functions, please see\n",
      "https://gist.github.com/mwaskom/de44147ed2974457ad6372750bbe5751\n",
      "\n",
      "  sns.distplot(data['speechiness'])\n",
      "C:\\Users\\m\\AppData\\Local\\Temp\\ipykernel_16056\\12964489.py:3: UserWarning: Matplotlib is currently using module://matplotlib_inline.backend_inline, which is a non-GUI backend, so cannot show the figure.\n",
      "  plt.show()\n"
     ]
    }
   ],
   "source": [
    "# Plot the distribution of the loudness variable\n",
    "sns.distplot(data['speechiness'])\n",
    "plt.show()"
   ]
  },
  {
   "cell_type": "code",
   "execution_count": 26,
   "id": "0d0aac6f",
   "metadata": {},
   "outputs": [
    {
     "name": "stderr",
     "output_type": "stream",
     "text": [
      "C:\\Users\\m\\AppData\\Local\\Temp\\ipykernel_16056\\1654057172.py:2: UserWarning: \n",
      "\n",
      "`distplot` is a deprecated function and will be removed in seaborn v0.14.0.\n",
      "\n",
      "Please adapt your code to use either `displot` (a figure-level function with\n",
      "similar flexibility) or `histplot` (an axes-level function for histograms).\n",
      "\n",
      "For a guide to updating your code to use the new functions, please see\n",
      "https://gist.github.com/mwaskom/de44147ed2974457ad6372750bbe5751\n",
      "\n",
      "  sns.distplot(data['acousticness'])\n",
      "C:\\Users\\m\\AppData\\Local\\Temp\\ipykernel_16056\\1654057172.py:3: UserWarning: Matplotlib is currently using module://matplotlib_inline.backend_inline, which is a non-GUI backend, so cannot show the figure.\n",
      "  plt.show()\n"
     ]
    }
   ],
   "source": [
    "# Plot the distribution of the loudness variable\n",
    "sns.distplot(data['acousticness'])\n",
    "plt.show()"
   ]
  },
  {
   "cell_type": "code",
   "execution_count": 27,
   "id": "bccfa263",
   "metadata": {},
   "outputs": [
    {
     "name": "stderr",
     "output_type": "stream",
     "text": [
      "C:\\Users\\m\\AppData\\Local\\Temp\\ipykernel_16056\\3892087779.py:2: UserWarning: \n",
      "\n",
      "`distplot` is a deprecated function and will be removed in seaborn v0.14.0.\n",
      "\n",
      "Please adapt your code to use either `displot` (a figure-level function with\n",
      "similar flexibility) or `histplot` (an axes-level function for histograms).\n",
      "\n",
      "For a guide to updating your code to use the new functions, please see\n",
      "https://gist.github.com/mwaskom/de44147ed2974457ad6372750bbe5751\n",
      "\n",
      "  sns.distplot(data['instrumentalness'])\n",
      "C:\\Users\\m\\AppData\\Local\\Temp\\ipykernel_16056\\3892087779.py:3: UserWarning: Matplotlib is currently using module://matplotlib_inline.backend_inline, which is a non-GUI backend, so cannot show the figure.\n",
      "  plt.show()\n"
     ]
    }
   ],
   "source": [
    "# Plot the distribution of the loudness variable\n",
    "sns.distplot(data['instrumentalness'])\n",
    "plt.show()"
   ]
  },
  {
   "cell_type": "code",
   "execution_count": 28,
   "id": "34331d45",
   "metadata": {},
   "outputs": [
    {
     "name": "stderr",
     "output_type": "stream",
     "text": [
      "C:\\Users\\m\\AppData\\Local\\Temp\\ipykernel_16056\\3322644786.py:2: UserWarning: \n",
      "\n",
      "`distplot` is a deprecated function and will be removed in seaborn v0.14.0.\n",
      "\n",
      "Please adapt your code to use either `displot` (a figure-level function with\n",
      "similar flexibility) or `histplot` (an axes-level function for histograms).\n",
      "\n",
      "For a guide to updating your code to use the new functions, please see\n",
      "https://gist.github.com/mwaskom/de44147ed2974457ad6372750bbe5751\n",
      "\n",
      "  sns.distplot(data['liveness'])\n",
      "C:\\Users\\m\\AppData\\Local\\Temp\\ipykernel_16056\\3322644786.py:3: UserWarning: Matplotlib is currently using module://matplotlib_inline.backend_inline, which is a non-GUI backend, so cannot show the figure.\n",
      "  plt.show()\n"
     ]
    }
   ],
   "source": [
    "# Plot the distribution of the loudness variable\n",
    "sns.distplot(data['liveness'])\n",
    "plt.show()"
   ]
  },
  {
   "cell_type": "code",
   "execution_count": 29,
   "id": "d56c1a6b",
   "metadata": {},
   "outputs": [
    {
     "name": "stderr",
     "output_type": "stream",
     "text": [
      "C:\\Users\\m\\AppData\\Local\\Temp\\ipykernel_16056\\1806393977.py:2: UserWarning: \n",
      "\n",
      "`distplot` is a deprecated function and will be removed in seaborn v0.14.0.\n",
      "\n",
      "Please adapt your code to use either `displot` (a figure-level function with\n",
      "similar flexibility) or `histplot` (an axes-level function for histograms).\n",
      "\n",
      "For a guide to updating your code to use the new functions, please see\n",
      "https://gist.github.com/mwaskom/de44147ed2974457ad6372750bbe5751\n",
      "\n",
      "  sns.distplot(data['valence'])\n",
      "C:\\Users\\m\\AppData\\Local\\Temp\\ipykernel_16056\\1806393977.py:3: UserWarning: Matplotlib is currently using module://matplotlib_inline.backend_inline, which is a non-GUI backend, so cannot show the figure.\n",
      "  plt.show()\n"
     ]
    }
   ],
   "source": [
    "# Plot the distribution of the loudness variable\n",
    "sns.distplot(data['valence'])\n",
    "plt.show()"
   ]
  },
  {
   "cell_type": "code",
   "execution_count": 30,
   "id": "90db6945",
   "metadata": {},
   "outputs": [
    {
     "name": "stderr",
     "output_type": "stream",
     "text": [
      "C:\\Users\\m\\AppData\\Local\\Temp\\ipykernel_16056\\3387701840.py:2: UserWarning: \n",
      "\n",
      "`distplot` is a deprecated function and will be removed in seaborn v0.14.0.\n",
      "\n",
      "Please adapt your code to use either `displot` (a figure-level function with\n",
      "similar flexibility) or `histplot` (an axes-level function for histograms).\n",
      "\n",
      "For a guide to updating your code to use the new functions, please see\n",
      "https://gist.github.com/mwaskom/de44147ed2974457ad6372750bbe5751\n",
      "\n",
      "  sns.distplot(data['tempo'])\n",
      "C:\\Users\\m\\AppData\\Local\\Temp\\ipykernel_16056\\3387701840.py:3: UserWarning: Matplotlib is currently using module://matplotlib_inline.backend_inline, which is a non-GUI backend, so cannot show the figure.\n",
      "  plt.show()\n"
     ]
    }
   ],
   "source": [
    "# Plot the distribution of the loudness variable\n",
    "sns.distplot(data['tempo'])\n",
    "plt.show()"
   ]
  },
  {
   "cell_type": "code",
   "execution_count": 31,
   "id": "a57ecec0",
   "metadata": {},
   "outputs": [
    {
     "name": "stderr",
     "output_type": "stream",
     "text": [
      "C:\\Users\\m\\AppData\\Local\\Temp\\ipykernel_16056\\281239526.py:2: UserWarning: \n",
      "\n",
      "`distplot` is a deprecated function and will be removed in seaborn v0.14.0.\n",
      "\n",
      "Please adapt your code to use either `displot` (a figure-level function with\n",
      "similar flexibility) or `histplot` (an axes-level function for histograms).\n",
      "\n",
      "For a guide to updating your code to use the new functions, please see\n",
      "https://gist.github.com/mwaskom/de44147ed2974457ad6372750bbe5751\n",
      "\n",
      "  sns.distplot(data['duration_ms'])\n",
      "C:\\Users\\m\\AppData\\Local\\Temp\\ipykernel_16056\\281239526.py:3: UserWarning: Matplotlib is currently using module://matplotlib_inline.backend_inline, which is a non-GUI backend, so cannot show the figure.\n",
      "  plt.show()\n"
     ]
    }
   ],
   "source": [
    "# Plot the distribution of the loudness variable\n",
    "sns.distplot(data['duration_ms'])\n",
    "plt.show()"
   ]
  },
  {
   "cell_type": "code",
   "execution_count": 32,
   "id": "d3c8e83f",
   "metadata": {},
   "outputs": [
    {
     "name": "stderr",
     "output_type": "stream",
     "text": [
      "C:\\Users\\m\\AppData\\Local\\Temp\\ipykernel_16056\\3869395968.py:2: UserWarning: \n",
      "\n",
      "`distplot` is a deprecated function and will be removed in seaborn v0.14.0.\n",
      "\n",
      "Please adapt your code to use either `displot` (a figure-level function with\n",
      "similar flexibility) or `histplot` (an axes-level function for histograms).\n",
      "\n",
      "For a guide to updating your code to use the new functions, please see\n",
      "https://gist.github.com/mwaskom/de44147ed2974457ad6372750bbe5751\n",
      "\n",
      "  sns.distplot(data['time_signature'])\n",
      "C:\\Users\\m\\AppData\\Local\\Temp\\ipykernel_16056\\3869395968.py:3: UserWarning: Matplotlib is currently using module://matplotlib_inline.backend_inline, which is a non-GUI backend, so cannot show the figure.\n",
      "  plt.show()\n"
     ]
    }
   ],
   "source": [
    "# Plot the distribution of the loudness variable\n",
    "sns.distplot(data['time_signature'])\n",
    "plt.show()"
   ]
  },
  {
   "cell_type": "code",
   "execution_count": 33,
   "id": "ea965b11",
   "metadata": {},
   "outputs": [
    {
     "name": "stderr",
     "output_type": "stream",
     "text": [
      "C:\\Users\\m\\AppData\\Local\\Temp\\ipykernel_16056\\346298354.py:2: UserWarning: \n",
      "\n",
      "`distplot` is a deprecated function and will be removed in seaborn v0.14.0.\n",
      "\n",
      "Please adapt your code to use either `displot` (a figure-level function with\n",
      "similar flexibility) or `histplot` (an axes-level function for histograms).\n",
      "\n",
      "For a guide to updating your code to use the new functions, please see\n",
      "https://gist.github.com/mwaskom/de44147ed2974457ad6372750bbe5751\n",
      "\n",
      "  sns.distplot(data['chorus_hit'])\n",
      "C:\\Users\\m\\AppData\\Local\\Temp\\ipykernel_16056\\346298354.py:3: UserWarning: Matplotlib is currently using module://matplotlib_inline.backend_inline, which is a non-GUI backend, so cannot show the figure.\n",
      "  plt.show()\n"
     ]
    }
   ],
   "source": [
    "# Plot the distribution of the loudness variable\n",
    "sns.distplot(data['chorus_hit'])\n",
    "plt.show()"
   ]
  },
  {
   "cell_type": "code",
   "execution_count": 34,
   "id": "4c26d6ee",
   "metadata": {},
   "outputs": [
    {
     "name": "stderr",
     "output_type": "stream",
     "text": [
      "C:\\Users\\m\\AppData\\Local\\Temp\\ipykernel_16056\\586522974.py:2: UserWarning: \n",
      "\n",
      "`distplot` is a deprecated function and will be removed in seaborn v0.14.0.\n",
      "\n",
      "Please adapt your code to use either `displot` (a figure-level function with\n",
      "similar flexibility) or `histplot` (an axes-level function for histograms).\n",
      "\n",
      "For a guide to updating your code to use the new functions, please see\n",
      "https://gist.github.com/mwaskom/de44147ed2974457ad6372750bbe5751\n",
      "\n",
      "  sns.distplot(data['decade'])\n",
      "C:\\Users\\m\\AppData\\Local\\Temp\\ipykernel_16056\\586522974.py:3: UserWarning: Matplotlib is currently using module://matplotlib_inline.backend_inline, which is a non-GUI backend, so cannot show the figure.\n",
      "  plt.show()\n"
     ]
    }
   ],
   "source": [
    "# Plot the distribution of the loudness variable\n",
    "sns.distplot(data['decade'])\n",
    "plt.show()"
   ]
  },
  {
   "attachments": {},
   "cell_type": "markdown",
   "id": "debc31c0",
   "metadata": {},
   "source": [
    "**Bivariate Analysis**"
   ]
  },
  {
   "cell_type": "code",
   "execution_count": 35,
   "id": "5d04a2f5",
   "metadata": {},
   "outputs": [
    {
     "name": "stderr",
     "output_type": "stream",
     "text": [
      "C:\\Users\\m\\AppData\\Local\\Temp\\ipykernel_16056\\2503621619.py:3: UserWarning: Matplotlib is currently using module://matplotlib_inline.backend_inline, which is a non-GUI backend, so cannot show the figure.\n",
      "  plt.show()\n"
     ]
    }
   ],
   "source": [
    "# create a scatter plot of danceability vs energy\n",
    "sns.scatterplot(x='danceability', y='energy', data=data)\n",
    "plt.show()\n"
   ]
  },
  {
   "cell_type": "code",
   "execution_count": 36,
   "id": "cd3cab69",
   "metadata": {},
   "outputs": [
    {
     "name": "stderr",
     "output_type": "stream",
     "text": [
      "C:\\Users\\m\\AppData\\Local\\Temp\\ipykernel_16056\\1890931697.py:3: UserWarning: Matplotlib is currently using module://matplotlib_inline.backend_inline, which is a non-GUI backend, so cannot show the figure.\n",
      "  plt.show()\n"
     ]
    }
   ],
   "source": [
    "# create a bar plot of the average danceability by decade\n",
    "data.groupby('decade')['danceability'].mean().plot(kind='bar')\n",
    "plt.show()"
   ]
  },
  {
   "cell_type": "code",
   "execution_count": 37,
   "id": "48816640",
   "metadata": {},
   "outputs": [
    {
     "name": "stderr",
     "output_type": "stream",
     "text": [
      "C:\\Users\\m\\AppData\\Local\\Temp\\ipykernel_16056\\1751103547.py:3: UserWarning: Matplotlib is currently using module://matplotlib_inline.backend_inline, which is a non-GUI backend, so cannot show the figure.\n",
      "  plt.show()\n"
     ]
    }
   ],
   "source": [
    "# create a violin plot of danceability by target\n",
    "sns.violinplot(x='target', y='danceability', data=data)\n",
    "plt.show()"
   ]
  },
  {
   "cell_type": "code",
   "execution_count": 38,
   "id": "8634ffb6",
   "metadata": {},
   "outputs": [
    {
     "name": "stderr",
     "output_type": "stream",
     "text": [
      "C:\\Users\\m\\AppData\\Local\\Temp\\ipykernel_16056\\3378577333.py:3: UserWarning: Matplotlib is currently using module://matplotlib_inline.backend_inline, which is a non-GUI backend, so cannot show the figure.\n",
      "  plt.show()\n"
     ]
    }
   ],
   "source": [
    "# create a bar plot of the average energy by decade\n",
    "data.groupby('decade')['energy'].mean().plot(kind='bar')\n",
    "plt.show()"
   ]
  },
  {
   "cell_type": "code",
   "execution_count": 39,
   "id": "0d676535",
   "metadata": {},
   "outputs": [
    {
     "name": "stderr",
     "output_type": "stream",
     "text": [
      "C:\\Users\\m\\AppData\\Local\\Temp\\ipykernel_16056\\748412127.py:3: UserWarning: Matplotlib is currently using module://matplotlib_inline.backend_inline, which is a non-GUI backend, so cannot show the figure.\n",
      "  plt.show()\n"
     ]
    }
   ],
   "source": [
    "# create a violin plot of energy by target\n",
    "sns.violinplot(x='target', y='energy', data=data)\n",
    "plt.show()\n"
   ]
  },
  {
   "cell_type": "code",
   "execution_count": 40,
   "id": "e3140e47",
   "metadata": {},
   "outputs": [
    {
     "name": "stderr",
     "output_type": "stream",
     "text": [
      "C:\\Users\\m\\AppData\\Local\\Temp\\ipykernel_16056\\3148864300.py:3: UserWarning: Matplotlib is currently using module://matplotlib_inline.backend_inline, which is a non-GUI backend, so cannot show the figure.\n",
      "  plt.show()\n"
     ]
    }
   ],
   "source": [
    "# Create a box plot for the relationship between loudness and target\n",
    "sns.boxplot(x='target', y='loudness', data=data)\n",
    "plt.show()\n"
   ]
  },
  {
   "cell_type": "code",
   "execution_count": 41,
   "id": "f73797c7",
   "metadata": {},
   "outputs": [
    {
     "name": "stderr",
     "output_type": "stream",
     "text": [
      "C:\\Users\\m\\AppData\\Local\\Temp\\ipykernel_16056\\4113287589.py:3: UserWarning: Matplotlib is currently using module://matplotlib_inline.backend_inline, which is a non-GUI backend, so cannot show the figure.\n",
      "  plt.show()\n"
     ]
    }
   ],
   "source": [
    "# Create a bar plot for the relationship between key and target\n",
    "sns.barplot(x='key', y='target', data=data)\n",
    "plt.show()"
   ]
  },
  {
   "cell_type": "code",
   "execution_count": 42,
   "id": "756e8e49",
   "metadata": {},
   "outputs": [
    {
     "name": "stderr",
     "output_type": "stream",
     "text": [
      "C:\\Users\\m\\AppData\\Local\\Temp\\ipykernel_16056\\2276316577.py:3: UserWarning: Matplotlib is currently using module://matplotlib_inline.backend_inline, which is a non-GUI backend, so cannot show the figure.\n",
      "  plt.show()\n"
     ]
    }
   ],
   "source": [
    "# Create a violin plot for the relationship between mode and speechiness\n",
    "sns.violinplot(x='mode', y='speechiness', hue='target', data=data)\n",
    "plt.show()"
   ]
  },
  {
   "attachments": {},
   "cell_type": "markdown",
   "id": "cc546772",
   "metadata": {},
   "source": [
    "**What is the average danceability of songs that were hits?**"
   ]
  },
  {
   "cell_type": "code",
   "execution_count": 43,
   "id": "68df6605",
   "metadata": {},
   "outputs": [
    {
     "name": "stdout",
     "output_type": "stream",
     "text": [
      "The average danceability of songs that were hits:  0.6012373765387048\n"
     ]
    }
   ],
   "source": [
    "hit_danceability = data[data['target'] == 1]['danceability'].mean()\n",
    "print(\"The average danceability of songs that were hits: \", hit_danceability)\n"
   ]
  },
  {
   "attachments": {},
   "cell_type": "markdown",
   "id": "b0bf7293",
   "metadata": {},
   "source": [
    "**What is the average energy of songs that were not hits?**"
   ]
  },
  {
   "cell_type": "code",
   "execution_count": 44,
   "id": "f3dcf4fd",
   "metadata": {},
   "outputs": [
    {
     "name": "stdout",
     "output_type": "stream",
     "text": [
      "The average energy of songs that were not hits:  0.5347942697416436\n"
     ]
    }
   ],
   "source": [
    "not_hit_energy = data[data['target'] == 0]['energy'].mean()\n",
    "print(\"The average energy of songs that were not hits: \", not_hit_energy)\n"
   ]
  },
  {
   "attachments": {},
   "cell_type": "markdown",
   "id": "427526cc",
   "metadata": {},
   "source": [
    "**What is the average speechiness of songs from the 2000s?**"
   ]
  },
  {
   "cell_type": "code",
   "execution_count": 45,
   "id": "fef05b52",
   "metadata": {},
   "outputs": [
    {
     "name": "stdout",
     "output_type": "stream",
     "text": [
      "The average speechiness of songs from the 2000s:  0.09235953678474114\n"
     ]
    }
   ],
   "source": [
    "speechiness_2000s = data[data['decade'] == 2000]['speechiness'].mean()\n",
    "print(\"The average speechiness of songs from the 2000s: \", speechiness_2000s)"
   ]
  },
  {
   "attachments": {},
   "cell_type": "markdown",
   "id": "e4161e56",
   "metadata": {},
   "source": [
    "**What is the correlation between instrumentalness and liveness for songs that were not hits?**"
   ]
  },
  {
   "cell_type": "code",
   "execution_count": 46,
   "id": "9f886836",
   "metadata": {},
   "outputs": [
    {
     "name": "stdout",
     "output_type": "stream",
     "text": [
      "The correlation between instrumentalness and liveness for songs that were not hits:                    instrumentalness  liveness\n",
      "instrumentalness          1.000000 -0.106062\n",
      "liveness                 -0.106062  1.000000\n"
     ]
    }
   ],
   "source": [
    "corr = data[data['target'] == 0][['instrumentalness', 'liveness']].corr()\n",
    "print(\"The correlation between instrumentalness and liveness for songs that were not hits: \", corr)"
   ]
  },
  {
   "attachments": {},
   "cell_type": "markdown",
   "id": "e01d816b",
   "metadata": {},
   "source": [
    "**What is the average tempo of songs that were hits?**"
   ]
  },
  {
   "cell_type": "code",
   "execution_count": 47,
   "id": "5b872da9",
   "metadata": {},
   "outputs": [
    {
     "name": "stdout",
     "output_type": "stream",
     "text": [
      "The average tempo of songs that were hits:  120.28827971585658\n"
     ]
    }
   ],
   "source": [
    "hit_tempo = data[data['target'] == 1]['tempo'].mean()\n",
    "print(\"The average tempo of songs that were hits: \", hit_tempo)"
   ]
  },
  {
   "attachments": {},
   "cell_type": "markdown",
   "id": "a139e035",
   "metadata": {},
   "source": [
    "**What is the median loudness of songs that were not hits?**"
   ]
  },
  {
   "cell_type": "code",
   "execution_count": 48,
   "id": "a8140043",
   "metadata": {},
   "outputs": [
    {
     "name": "stdout",
     "output_type": "stream",
     "text": [
      "The median loudness of songs that were not hits:  -10.664\n"
     ]
    }
   ],
   "source": [
    "not_hit_loudness = data[data['target'] == 0]['loudness'].median()\n",
    "print(\"The median loudness of songs that were not hits: \", not_hit_loudness)"
   ]
  },
  {
   "attachments": {},
   "cell_type": "markdown",
   "id": "51613d8c",
   "metadata": {},
   "source": [
    "**year with the highest hits**"
   ]
  },
  {
   "cell_type": "code",
   "execution_count": 49,
   "id": "1f606e95",
   "metadata": {},
   "outputs": [
    {
     "name": "stdout",
     "output_type": "stream",
     "text": [
      "The year with the highest number of hits:  1960\n"
     ]
    },
    {
     "name": "stderr",
     "output_type": "stream",
     "text": [
      "C:\\Users\\m\\AppData\\Local\\Temp\\ipykernel_16056\\3526289443.py:12: UserWarning: Matplotlib is currently using module://matplotlib_inline.backend_inline, which is a non-GUI backend, so cannot show the figure.\n",
      "  plt.show()\n"
     ]
    }
   ],
   "source": [
    "data['year'] = data['decade'] + (data['decade'] % 10)\n",
    "\n",
    "data['hit'] = data['target'].apply(lambda x: 1 if x == 1 else 0)\n",
    "\n",
    "yearly_hits = data.groupby('year')['hit'].sum()\n",
    "year_with_highest_hits = yearly_hits.idxmax()\n",
    "print(\"The year with the highest number of hits: \", year_with_highest_hits)\n",
    "\n",
    "sns.barplot(x=yearly_hits.index, y=yearly_hits.values)\n",
    "plt.xlabel(\"Year\")\n",
    "plt.ylabel(\"Number of Hits\")\n",
    "plt.show()"
   ]
  },
  {
   "attachments": {},
   "cell_type": "markdown",
   "id": "c0539674",
   "metadata": {},
   "source": [
    "**top 3 difference between popular song and non-popular song by audio features?**"
   ]
  },
  {
   "cell_type": "code",
   "execution_count": 50,
   "id": "4fb96afd",
   "metadata": {},
   "outputs": [
    {
     "name": "stderr",
     "output_type": "stream",
     "text": [
      "C:\\Users\\m\\AppData\\Local\\Temp\\ipykernel_16056\\2303848260.py:4: FutureWarning: Dropping of nuisance columns in DataFrame reductions (with 'numeric_only=None') is deprecated; in a future version this will raise TypeError.  Select only valid columns before calling the reduction.\n",
      "  print(df4.mean())\n"
     ]
    },
    {
     "name": "stdout",
     "output_type": "stream",
     "text": [
      "danceability             0.601237\n",
      "energy                   0.624296\n",
      "key                      5.248528\n",
      "loudness                -8.702237\n",
      "mode                     0.730064\n",
      "speechiness              0.069444\n",
      "acousticness             0.280814\n",
      "instrumentalness         0.030687\n",
      "liveness                 0.192637\n",
      "valence                  0.609578\n",
      "tempo                  120.288280\n",
      "duration_ms         226095.539970\n",
      "time_signature           3.938063\n",
      "chorus_hit              39.224034\n",
      "sections                10.183380\n",
      "target                   1.000000\n",
      "decade                1982.775264\n",
      "year                  1982.775264\n",
      "hit                      1.000000\n",
      "dtype: float64\n"
     ]
    },
    {
     "name": "stderr",
     "output_type": "stream",
     "text": [
      "C:\\Users\\m\\AppData\\Local\\Temp\\ipykernel_16056\\2303848260.py:11: FutureWarning: Dropping of nuisance columns in DataFrame reductions (with 'numeric_only=None') is deprecated; in a future version this will raise TypeError.  Select only valid columns before calling the reduction.\n",
      "  print(df5.mean())\n"
     ]
    },
    {
     "name": "stdout",
     "output_type": "stream",
     "text": [
      "danceability             0.478153\n",
      "energy                   0.534794\n",
      "key                      5.178660\n",
      "loudness               -11.740813\n",
      "mode                     0.656644\n",
      "speechiness              0.076477\n",
      "acousticness             0.447581\n",
      "instrumentalness         0.278145\n",
      "liveness                 0.210432\n",
      "valence                  0.475302\n",
      "tempo                  118.388219\n",
      "duration_ms         243659.560940\n",
      "time_signature           3.849316\n",
      "chorus_hit              40.988048\n",
      "sections                10.767966\n",
      "target                   0.000000\n",
      "decade                1982.775264\n",
      "year                  1982.775264\n",
      "hit                      0.000000\n",
      "dtype: float64\n"
     ]
    },
    {
     "name": "stderr",
     "output_type": "stream",
     "text": [
      "C:\\Users\\m\\AppData\\Local\\Temp\\ipykernel_16056\\2303848260.py:14: FutureWarning: Dropping of nuisance columns in DataFrame reductions (with 'numeric_only=None') is deprecated; in a future version this will raise TypeError.  Select only valid columns before calling the reduction.\n",
      "  print(df4.mean()-df5.mean())\n"
     ]
    },
    {
     "name": "stdout",
     "output_type": "stream",
     "text": [
      "danceability            0.123085\n",
      "energy                  0.089501\n",
      "key                     0.069868\n",
      "loudness                3.038576\n",
      "mode                    0.073420\n",
      "speechiness            -0.007033\n",
      "acousticness           -0.166767\n",
      "instrumentalness       -0.247458\n",
      "liveness               -0.017796\n",
      "valence                 0.134276\n",
      "tempo                   1.900061\n",
      "duration_ms        -17564.020970\n",
      "time_signature          0.088746\n",
      "chorus_hit             -1.764014\n",
      "sections               -0.584586\n",
      "target                  1.000000\n",
      "decade                  0.000000\n",
      "year                    0.000000\n",
      "hit                     1.000000\n",
      "dtype: float64\n"
     ]
    },
    {
     "name": "stderr",
     "output_type": "stream",
     "text": [
      "C:\\Users\\m\\AppData\\Local\\Temp\\ipykernel_16056\\2303848260.py:17: FutureWarning: Dropping of nuisance columns in DataFrame reductions (with 'numeric_only=None') is deprecated; in a future version this will raise TypeError.  Select only valid columns before calling the reduction.\n",
      "  df6 = df4.mean()-df5.mean()\n"
     ]
    },
    {
     "data": {
      "text/plain": [
       "<AxesSubplot: title={'center': 'The Top Difference Between Popular Song and Non-Popular Song by Audio Features'}, xlabel='Year', ylabel='Number of Hits'>"
      ]
     },
     "execution_count": 50,
     "metadata": {},
     "output_type": "execute_result"
    }
   ],
   "source": [
    "df4 = data[data['target'] == 1]\n",
    "\n",
    "# Calculate and print the mean value of audio feature for popular song\n",
    "print(df4.mean())\n",
    "\n",
    "# Filter the audio features data by non-popular song \n",
    "\n",
    "df5 = data[data['target'] == 0]\n",
    "\n",
    "# Calculate and print the mean value of audio feature for non-popular song\n",
    "print(df5.mean())\n",
    "\n",
    "# Show the value difference between popular songs and non popular songs by printing\n",
    "print(df4.mean()-df5.mean())\n",
    "\n",
    "# Plot the bar graph\n",
    "df6 = df4.mean()-df5.mean()\n",
    "\n",
    "df6.plot(\n",
    "  kind = 'bar',\n",
    "  title = 'The Top Difference Between Popular Song and Non-Popular Song by Audio Features',\n",
    "  figsize = [12,8],\n",
    "  color = 'orange'\n",
    "  )"
   ]
  },
  {
   "attachments": {},
   "cell_type": "markdown",
   "id": "8fcdf49e",
   "metadata": {},
   "source": [
    "**top 5 artists with the highest number of hit songs in the dataset**"
   ]
  },
  {
   "cell_type": "code",
   "execution_count": 51,
   "id": "6495cc11",
   "metadata": {},
   "outputs": [
    {
     "name": "stdout",
     "output_type": "stream",
     "text": [
      "The top 5 artists with the highest number of hits: \n",
      " artist\n",
      "The Beatles           59\n",
      "Elton John            56\n",
      "The Rolling Stones    54\n",
      "Stevie Wonder         53\n",
      "Madonna               53\n",
      "Name: hit, dtype: int64\n"
     ]
    },
    {
     "name": "stderr",
     "output_type": "stream",
     "text": [
      "C:\\Users\\m\\AppData\\Local\\Temp\\ipykernel_16056\\2749072434.py:11: UserWarning: Matplotlib is currently using module://matplotlib_inline.backend_inline, which is a non-GUI backend, so cannot show the figure.\n",
      "  plt.show()\n"
     ]
    }
   ],
   "source": [
    "data['hit'] = data['target'].apply(lambda x: 1 if x == 1 else 0)\n",
    "artist_hits = data.groupby('artist')['hit'].sum().sort_values(ascending=False)\n",
    "\n",
    "top_5_artists = artist_hits.head(5)\n",
    "print(\"The top 5 artists with the highest number of hits: \\n\", top_5_artists)\n",
    "\n",
    "# Plot the number of hits per artist\n",
    "top_5_artists.plot(kind='bar')\n",
    "plt.xlabel(\"Artist\")\n",
    "plt.ylabel(\"Number of Hits\")\n",
    "plt.show()"
   ]
  },
  {
   "attachments": {},
   "cell_type": "markdown",
   "id": "70b771fb",
   "metadata": {},
   "source": [
    "**What are the top 4 keys with the highest liveness?**"
   ]
  },
  {
   "cell_type": "code",
   "execution_count": 52,
   "id": "fd544d4c",
   "metadata": {},
   "outputs": [
    {
     "name": "stdout",
     "output_type": "stream",
     "text": [
      "The top 4 keys with the highest liveness: \n",
      "      danceability    energy   loudness      mode  speechiness  acousticness  \\\n",
      "key                                                                           \n",
      "4        0.522066  0.586986 -10.147801  0.554017     0.066214      0.358393   \n",
      "7        0.539817  0.571788 -10.400520  0.804111     0.069582      0.372331   \n",
      "11       0.560496  0.629182  -9.574045  0.460391     0.083116      0.283540   \n",
      "6        0.556014  0.626970  -9.337614  0.557059     0.087804      0.290990   \n",
      "\n",
      "     instrumentalness  liveness   valence       tempo    duration_ms  \\\n",
      "key                                                                    \n",
      "4            0.145684  0.216126  0.532034  119.771573  233835.265423   \n",
      "7            0.151022  0.208603  0.551720  118.734045  231149.281137   \n",
      "11           0.147583  0.206594  0.547247  120.111876  240285.809947   \n",
      "6            0.133232  0.202778  0.542199  119.035699  239758.919260   \n",
      "\n",
      "     time_signature  chorus_hit   sections    target       decade  \\\n",
      "key                                                                 \n",
      "4          3.897683   40.022781  10.407764  0.476678  1982.088474   \n",
      "7          3.891778   40.462361  10.362152  0.489319  1981.592100   \n",
      "11         3.915098   40.032404  10.583659  0.514387  1986.408526   \n",
      "6          3.921516   40.088324  10.578710  0.539919  1988.191249   \n",
      "\n",
      "            year       hit  \n",
      "key                         \n",
      "4    1982.088474  0.476678  \n",
      "7    1981.592100  0.489319  \n",
      "11   1986.408526  0.514387  \n",
      "6    1988.191249  0.539919  \n"
     ]
    }
   ],
   "source": [
    "top_4_keys_liveness = data.sort_values(by='liveness',\n",
    "ascending=False).groupby('key').mean().sort_values(by='liveness', ascending=False).head(4)\n",
    "print(\"The top 4 keys with the highest liveness: \\n\", top_4_keys_liveness)"
   ]
  },
  {
   "cell_type": "code",
   "execution_count": 53,
   "id": "482c880c",
   "metadata": {},
   "outputs": [
    {
     "name": "stderr",
     "output_type": "stream",
     "text": [
      "C:\\Users\\m\\AppData\\Local\\Temp\\ipykernel_16056\\411007246.py:2: UserWarning: Matplotlib is currently using module://matplotlib_inline.backend_inline, which is a non-GUI backend, so cannot show the figure.\n",
      "  plt.show()\n"
     ]
    }
   ],
   "source": [
    "sns.pairplot(data)\n",
    "plt.show()"
   ]
  },
  {
   "cell_type": "code",
   "execution_count": 54,
   "id": "124428d9",
   "metadata": {},
   "outputs": [
    {
     "name": "stderr",
     "output_type": "stream",
     "text": [
      "C:\\Users\\m\\AppData\\Local\\Temp\\ipykernel_16056\\1192267710.py:3: UserWarning: Matplotlib is currently using module://matplotlib_inline.backend_inline, which is a non-GUI backend, so cannot show the figure.\n",
      "  plt.show()\n"
     ]
    }
   ],
   "source": [
    "# Plot a heatmap of the correlation matrix for the dataset\n",
    "sns.heatmap(data.corr(), annot=True)\n",
    "plt.show()"
   ]
  },
  {
   "cell_type": "markdown",
   "id": "1d4400e8",
   "metadata": {
    "papermill": {
     "duration": 0.005919,
     "end_time": "2022-10-19T12:07:04.034734",
     "exception": false,
     "start_time": "2022-10-19T12:07:04.028815",
     "status": "completed"
    },
    "tags": []
   },
   "source": [
    "## Preprocessing"
   ]
  },
  {
   "cell_type": "code",
   "execution_count": 55,
   "id": "140a8bcc",
   "metadata": {},
   "outputs": [
    {
     "data": {
      "text/html": [
       "<div>\n",
       "<style scoped>\n",
       "    .dataframe tbody tr th:only-of-type {\n",
       "        vertical-align: middle;\n",
       "    }\n",
       "\n",
       "    .dataframe tbody tr th {\n",
       "        vertical-align: top;\n",
       "    }\n",
       "\n",
       "    .dataframe thead th {\n",
       "        text-align: right;\n",
       "    }\n",
       "</style>\n",
       "<table border=\"1\" class=\"dataframe\">\n",
       "  <thead>\n",
       "    <tr style=\"text-align: right;\">\n",
       "      <th></th>\n",
       "      <th>track</th>\n",
       "      <th>artist</th>\n",
       "      <th>uri</th>\n",
       "      <th>danceability</th>\n",
       "      <th>energy</th>\n",
       "      <th>key</th>\n",
       "      <th>loudness</th>\n",
       "      <th>mode</th>\n",
       "      <th>speechiness</th>\n",
       "      <th>acousticness</th>\n",
       "      <th>...</th>\n",
       "      <th>valence</th>\n",
       "      <th>tempo</th>\n",
       "      <th>duration_ms</th>\n",
       "      <th>time_signature</th>\n",
       "      <th>chorus_hit</th>\n",
       "      <th>sections</th>\n",
       "      <th>target</th>\n",
       "      <th>decade</th>\n",
       "      <th>year</th>\n",
       "      <th>hit</th>\n",
       "    </tr>\n",
       "  </thead>\n",
       "  <tbody>\n",
       "    <tr>\n",
       "      <th>0</th>\n",
       "      <td>Attaining - Take 1 / Alternate Version</td>\n",
       "      <td>John Coltrane</td>\n",
       "      <td>spotify:track:3EwLV5hZqLKx5e0Lp1QcB7</td>\n",
       "      <td>0.342</td>\n",
       "      <td>0.462</td>\n",
       "      <td>4</td>\n",
       "      <td>-12.931</td>\n",
       "      <td>0</td>\n",
       "      <td>0.0389</td>\n",
       "      <td>0.51400</td>\n",
       "      <td>...</td>\n",
       "      <td>0.397</td>\n",
       "      <td>98.466</td>\n",
       "      <td>816867</td>\n",
       "      <td>4</td>\n",
       "      <td>24.84938</td>\n",
       "      <td>33</td>\n",
       "      <td>0</td>\n",
       "      <td>1970</td>\n",
       "      <td>1970</td>\n",
       "      <td>0</td>\n",
       "    </tr>\n",
       "    <tr>\n",
       "      <th>1</th>\n",
       "      <td>So Fly</td>\n",
       "      <td>NB Ridaz Featuring Gemini</td>\n",
       "      <td>spotify:track:2BjIi07kN0yKSur0Fwrnss</td>\n",
       "      <td>0.861</td>\n",
       "      <td>0.519</td>\n",
       "      <td>2</td>\n",
       "      <td>-6.404</td>\n",
       "      <td>1</td>\n",
       "      <td>0.1120</td>\n",
       "      <td>0.13600</td>\n",
       "      <td>...</td>\n",
       "      <td>0.519</td>\n",
       "      <td>81.966</td>\n",
       "      <td>254533</td>\n",
       "      <td>4</td>\n",
       "      <td>50.03590</td>\n",
       "      <td>11</td>\n",
       "      <td>1</td>\n",
       "      <td>2000</td>\n",
       "      <td>2000</td>\n",
       "      <td>1</td>\n",
       "    </tr>\n",
       "    <tr>\n",
       "      <th>2</th>\n",
       "      <td>Because I Got It Like That</td>\n",
       "      <td>Jungle Brothers</td>\n",
       "      <td>spotify:track:5unLExF3iiG3YkU11u6wFO</td>\n",
       "      <td>0.900</td>\n",
       "      <td>0.916</td>\n",
       "      <td>1</td>\n",
       "      <td>-7.481</td>\n",
       "      <td>0</td>\n",
       "      <td>0.1150</td>\n",
       "      <td>0.22000</td>\n",
       "      <td>...</td>\n",
       "      <td>0.538</td>\n",
       "      <td>102.916</td>\n",
       "      <td>277894</td>\n",
       "      <td>4</td>\n",
       "      <td>24.71271</td>\n",
       "      <td>16</td>\n",
       "      <td>0</td>\n",
       "      <td>1980</td>\n",
       "      <td>1980</td>\n",
       "      <td>0</td>\n",
       "    </tr>\n",
       "    <tr>\n",
       "      <th>3</th>\n",
       "      <td>Babylon a Fall - Remastered</td>\n",
       "      <td>Yabby You</td>\n",
       "      <td>spotify:track:6xfe0G2HwRDQaChxkzvNKw</td>\n",
       "      <td>0.714</td>\n",
       "      <td>0.301</td>\n",
       "      <td>2</td>\n",
       "      <td>-14.800</td>\n",
       "      <td>1</td>\n",
       "      <td>0.1230</td>\n",
       "      <td>0.15600</td>\n",
       "      <td>...</td>\n",
       "      <td>0.651</td>\n",
       "      <td>74.856</td>\n",
       "      <td>357671</td>\n",
       "      <td>4</td>\n",
       "      <td>104.64231</td>\n",
       "      <td>11</td>\n",
       "      <td>0</td>\n",
       "      <td>1970</td>\n",
       "      <td>1970</td>\n",
       "      <td>0</td>\n",
       "    </tr>\n",
       "    <tr>\n",
       "      <th>4</th>\n",
       "      <td>Fins</td>\n",
       "      <td>Jimmy Buffett</td>\n",
       "      <td>spotify:track:4h0gZ422QxBRdTV14u0P8y</td>\n",
       "      <td>0.661</td>\n",
       "      <td>0.645</td>\n",
       "      <td>4</td>\n",
       "      <td>-13.520</td>\n",
       "      <td>1</td>\n",
       "      <td>0.0487</td>\n",
       "      <td>0.00895</td>\n",
       "      <td>...</td>\n",
       "      <td>0.930</td>\n",
       "      <td>136.693</td>\n",
       "      <td>204640</td>\n",
       "      <td>4</td>\n",
       "      <td>31.99617</td>\n",
       "      <td>10</td>\n",
       "      <td>1</td>\n",
       "      <td>1970</td>\n",
       "      <td>1970</td>\n",
       "      <td>1</td>\n",
       "    </tr>\n",
       "  </tbody>\n",
       "</table>\n",
       "<p>5 rows × 22 columns</p>\n",
       "</div>"
      ],
      "text/plain": [
       "                                    track                     artist  \\\n",
       "0  Attaining - Take 1 / Alternate Version              John Coltrane   \n",
       "1                                  So Fly  NB Ridaz Featuring Gemini   \n",
       "2              Because I Got It Like That            Jungle Brothers   \n",
       "3             Babylon a Fall - Remastered                  Yabby You   \n",
       "4                                    Fins              Jimmy Buffett   \n",
       "\n",
       "                                    uri  danceability  energy  key  loudness  \\\n",
       "0  spotify:track:3EwLV5hZqLKx5e0Lp1QcB7         0.342   0.462    4   -12.931   \n",
       "1  spotify:track:2BjIi07kN0yKSur0Fwrnss         0.861   0.519    2    -6.404   \n",
       "2  spotify:track:5unLExF3iiG3YkU11u6wFO         0.900   0.916    1    -7.481   \n",
       "3  spotify:track:6xfe0G2HwRDQaChxkzvNKw         0.714   0.301    2   -14.800   \n",
       "4  spotify:track:4h0gZ422QxBRdTV14u0P8y         0.661   0.645    4   -13.520   \n",
       "\n",
       "   mode  speechiness  acousticness  ...  valence    tempo  duration_ms  \\\n",
       "0     0       0.0389       0.51400  ...    0.397   98.466       816867   \n",
       "1     1       0.1120       0.13600  ...    0.519   81.966       254533   \n",
       "2     0       0.1150       0.22000  ...    0.538  102.916       277894   \n",
       "3     1       0.1230       0.15600  ...    0.651   74.856       357671   \n",
       "4     1       0.0487       0.00895  ...    0.930  136.693       204640   \n",
       "\n",
       "   time_signature  chorus_hit  sections  target  decade  year  hit  \n",
       "0               4    24.84938        33       0    1970  1970    0  \n",
       "1               4    50.03590        11       1    2000  2000    1  \n",
       "2               4    24.71271        16       0    1980  1980    0  \n",
       "3               4   104.64231        11       0    1970  1970    0  \n",
       "4               4    31.99617        10       1    1970  1970    1  \n",
       "\n",
       "[5 rows x 22 columns]"
      ]
     },
     "execution_count": 55,
     "metadata": {},
     "output_type": "execute_result"
    }
   ],
   "source": [
    "data.head()"
   ]
  },
  {
   "cell_type": "code",
   "execution_count": 56,
   "id": "98abe2ce",
   "metadata": {
    "execution": {
     "iopub.execute_input": "2022-10-19T12:07:04.049025Z",
     "iopub.status.busy": "2022-10-19T12:07:04.048485Z",
     "iopub.status.idle": "2022-10-19T12:07:04.058139Z",
     "shell.execute_reply": "2022-10-19T12:07:04.056490Z"
    },
    "papermill": {
     "duration": 0.019701,
     "end_time": "2022-10-19T12:07:04.060366",
     "exception": false,
     "start_time": "2022-10-19T12:07:04.040665",
     "status": "completed"
    },
    "tags": []
   },
   "outputs": [],
   "source": [
    "# Drop Categorical Data\n",
    "\n",
    "data.drop(['track', 'artist','uri'],axis=1,inplace=True)"
   ]
  },
  {
   "cell_type": "code",
   "execution_count": 57,
   "id": "8e477104",
   "metadata": {
    "execution": {
     "iopub.execute_input": "2022-10-19T12:07:04.074697Z",
     "iopub.status.busy": "2022-10-19T12:07:04.074052Z",
     "iopub.status.idle": "2022-10-19T12:07:04.083285Z",
     "shell.execute_reply": "2022-10-19T12:07:04.081833Z"
    },
    "papermill": {
     "duration": 0.019989,
     "end_time": "2022-10-19T12:07:04.086341",
     "exception": false,
     "start_time": "2022-10-19T12:07:04.066352",
     "status": "completed"
    },
    "tags": []
   },
   "outputs": [],
   "source": [
    "#Train - Test Split\n",
    "y = data['target']\n",
    "X = data.drop('target', axis = 1)"
   ]
  },
  {
   "cell_type": "code",
   "execution_count": 58,
   "id": "499842f2",
   "metadata": {
    "execution": {
     "iopub.execute_input": "2022-10-19T12:07:04.101920Z",
     "iopub.status.busy": "2022-10-19T12:07:04.101443Z",
     "iopub.status.idle": "2022-10-19T12:07:04.134386Z",
     "shell.execute_reply": "2022-10-19T12:07:04.132855Z"
    },
    "papermill": {
     "duration": 0.044246,
     "end_time": "2022-10-19T12:07:04.137169",
     "exception": false,
     "start_time": "2022-10-19T12:07:04.092923",
     "status": "completed"
    },
    "tags": []
   },
   "outputs": [
    {
     "data": {
      "text/html": [
       "<div>\n",
       "<style scoped>\n",
       "    .dataframe tbody tr th:only-of-type {\n",
       "        vertical-align: middle;\n",
       "    }\n",
       "\n",
       "    .dataframe tbody tr th {\n",
       "        vertical-align: top;\n",
       "    }\n",
       "\n",
       "    .dataframe thead th {\n",
       "        text-align: right;\n",
       "    }\n",
       "</style>\n",
       "<table border=\"1\" class=\"dataframe\">\n",
       "  <thead>\n",
       "    <tr style=\"text-align: right;\">\n",
       "      <th></th>\n",
       "      <th>danceability</th>\n",
       "      <th>energy</th>\n",
       "      <th>key</th>\n",
       "      <th>loudness</th>\n",
       "      <th>mode</th>\n",
       "      <th>speechiness</th>\n",
       "      <th>acousticness</th>\n",
       "      <th>instrumentalness</th>\n",
       "      <th>liveness</th>\n",
       "      <th>valence</th>\n",
       "      <th>tempo</th>\n",
       "      <th>duration_ms</th>\n",
       "      <th>time_signature</th>\n",
       "      <th>chorus_hit</th>\n",
       "      <th>sections</th>\n",
       "      <th>decade</th>\n",
       "      <th>year</th>\n",
       "      <th>hit</th>\n",
       "    </tr>\n",
       "  </thead>\n",
       "  <tbody>\n",
       "    <tr>\n",
       "      <th>0</th>\n",
       "      <td>0.342</td>\n",
       "      <td>0.462</td>\n",
       "      <td>4</td>\n",
       "      <td>-12.931</td>\n",
       "      <td>0</td>\n",
       "      <td>0.0389</td>\n",
       "      <td>0.51400</td>\n",
       "      <td>0.018100</td>\n",
       "      <td>0.0977</td>\n",
       "      <td>0.397</td>\n",
       "      <td>98.466</td>\n",
       "      <td>816867</td>\n",
       "      <td>4</td>\n",
       "      <td>24.84938</td>\n",
       "      <td>33</td>\n",
       "      <td>1970</td>\n",
       "      <td>1970</td>\n",
       "      <td>0</td>\n",
       "    </tr>\n",
       "    <tr>\n",
       "      <th>1</th>\n",
       "      <td>0.861</td>\n",
       "      <td>0.519</td>\n",
       "      <td>2</td>\n",
       "      <td>-6.404</td>\n",
       "      <td>1</td>\n",
       "      <td>0.1120</td>\n",
       "      <td>0.13600</td>\n",
       "      <td>0.000000</td>\n",
       "      <td>0.1230</td>\n",
       "      <td>0.519</td>\n",
       "      <td>81.966</td>\n",
       "      <td>254533</td>\n",
       "      <td>4</td>\n",
       "      <td>50.03590</td>\n",
       "      <td>11</td>\n",
       "      <td>2000</td>\n",
       "      <td>2000</td>\n",
       "      <td>1</td>\n",
       "    </tr>\n",
       "    <tr>\n",
       "      <th>2</th>\n",
       "      <td>0.900</td>\n",
       "      <td>0.916</td>\n",
       "      <td>1</td>\n",
       "      <td>-7.481</td>\n",
       "      <td>0</td>\n",
       "      <td>0.1150</td>\n",
       "      <td>0.22000</td>\n",
       "      <td>0.000141</td>\n",
       "      <td>0.0323</td>\n",
       "      <td>0.538</td>\n",
       "      <td>102.916</td>\n",
       "      <td>277894</td>\n",
       "      <td>4</td>\n",
       "      <td>24.71271</td>\n",
       "      <td>16</td>\n",
       "      <td>1980</td>\n",
       "      <td>1980</td>\n",
       "      <td>0</td>\n",
       "    </tr>\n",
       "    <tr>\n",
       "      <th>3</th>\n",
       "      <td>0.714</td>\n",
       "      <td>0.301</td>\n",
       "      <td>2</td>\n",
       "      <td>-14.800</td>\n",
       "      <td>1</td>\n",
       "      <td>0.1230</td>\n",
       "      <td>0.15600</td>\n",
       "      <td>0.661000</td>\n",
       "      <td>0.2290</td>\n",
       "      <td>0.651</td>\n",
       "      <td>74.856</td>\n",
       "      <td>357671</td>\n",
       "      <td>4</td>\n",
       "      <td>104.64231</td>\n",
       "      <td>11</td>\n",
       "      <td>1970</td>\n",
       "      <td>1970</td>\n",
       "      <td>0</td>\n",
       "    </tr>\n",
       "    <tr>\n",
       "      <th>4</th>\n",
       "      <td>0.661</td>\n",
       "      <td>0.645</td>\n",
       "      <td>4</td>\n",
       "      <td>-13.520</td>\n",
       "      <td>1</td>\n",
       "      <td>0.0487</td>\n",
       "      <td>0.00895</td>\n",
       "      <td>0.000000</td>\n",
       "      <td>0.0362</td>\n",
       "      <td>0.930</td>\n",
       "      <td>136.693</td>\n",
       "      <td>204640</td>\n",
       "      <td>4</td>\n",
       "      <td>31.99617</td>\n",
       "      <td>10</td>\n",
       "      <td>1970</td>\n",
       "      <td>1970</td>\n",
       "      <td>1</td>\n",
       "    </tr>\n",
       "    <tr>\n",
       "      <th>...</th>\n",
       "      <td>...</td>\n",
       "      <td>...</td>\n",
       "      <td>...</td>\n",
       "      <td>...</td>\n",
       "      <td>...</td>\n",
       "      <td>...</td>\n",
       "      <td>...</td>\n",
       "      <td>...</td>\n",
       "      <td>...</td>\n",
       "      <td>...</td>\n",
       "      <td>...</td>\n",
       "      <td>...</td>\n",
       "      <td>...</td>\n",
       "      <td>...</td>\n",
       "      <td>...</td>\n",
       "      <td>...</td>\n",
       "      <td>...</td>\n",
       "      <td>...</td>\n",
       "    </tr>\n",
       "    <tr>\n",
       "      <th>41101</th>\n",
       "      <td>0.435</td>\n",
       "      <td>0.834</td>\n",
       "      <td>10</td>\n",
       "      <td>-10.762</td>\n",
       "      <td>1</td>\n",
       "      <td>0.0415</td>\n",
       "      <td>0.78900</td>\n",
       "      <td>0.422000</td>\n",
       "      <td>0.9320</td>\n",
       "      <td>0.708</td>\n",
       "      <td>114.130</td>\n",
       "      <td>263067</td>\n",
       "      <td>4</td>\n",
       "      <td>17.81915</td>\n",
       "      <td>10</td>\n",
       "      <td>1960</td>\n",
       "      <td>1960</td>\n",
       "      <td>0</td>\n",
       "    </tr>\n",
       "    <tr>\n",
       "      <th>41102</th>\n",
       "      <td>0.499</td>\n",
       "      <td>0.880</td>\n",
       "      <td>6</td>\n",
       "      <td>-6.424</td>\n",
       "      <td>0</td>\n",
       "      <td>0.0654</td>\n",
       "      <td>0.01080</td>\n",
       "      <td>0.000028</td>\n",
       "      <td>0.2260</td>\n",
       "      <td>0.390</td>\n",
       "      <td>147.899</td>\n",
       "      <td>264800</td>\n",
       "      <td>4</td>\n",
       "      <td>55.42304</td>\n",
       "      <td>11</td>\n",
       "      <td>2000</td>\n",
       "      <td>2000</td>\n",
       "      <td>1</td>\n",
       "    </tr>\n",
       "    <tr>\n",
       "      <th>41103</th>\n",
       "      <td>0.326</td>\n",
       "      <td>0.816</td>\n",
       "      <td>8</td>\n",
       "      <td>-14.825</td>\n",
       "      <td>1</td>\n",
       "      <td>0.0527</td>\n",
       "      <td>0.88100</td>\n",
       "      <td>0.326000</td>\n",
       "      <td>0.1850</td>\n",
       "      <td>0.826</td>\n",
       "      <td>147.213</td>\n",
       "      <td>259267</td>\n",
       "      <td>4</td>\n",
       "      <td>25.73316</td>\n",
       "      <td>13</td>\n",
       "      <td>1960</td>\n",
       "      <td>1960</td>\n",
       "      <td>1</td>\n",
       "    </tr>\n",
       "    <tr>\n",
       "      <th>41104</th>\n",
       "      <td>0.659</td>\n",
       "      <td>0.257</td>\n",
       "      <td>9</td>\n",
       "      <td>-16.552</td>\n",
       "      <td>1</td>\n",
       "      <td>0.0382</td>\n",
       "      <td>0.89000</td>\n",
       "      <td>0.000140</td>\n",
       "      <td>0.2520</td>\n",
       "      <td>0.222</td>\n",
       "      <td>102.977</td>\n",
       "      <td>228160</td>\n",
       "      <td>4</td>\n",
       "      <td>20.91621</td>\n",
       "      <td>13</td>\n",
       "      <td>1970</td>\n",
       "      <td>1970</td>\n",
       "      <td>1</td>\n",
       "    </tr>\n",
       "    <tr>\n",
       "      <th>41105</th>\n",
       "      <td>0.502</td>\n",
       "      <td>0.938</td>\n",
       "      <td>9</td>\n",
       "      <td>-3.114</td>\n",
       "      <td>1</td>\n",
       "      <td>0.1300</td>\n",
       "      <td>0.00098</td>\n",
       "      <td>0.000000</td>\n",
       "      <td>0.3180</td>\n",
       "      <td>0.350</td>\n",
       "      <td>144.077</td>\n",
       "      <td>200347</td>\n",
       "      <td>4</td>\n",
       "      <td>39.34273</td>\n",
       "      <td>6</td>\n",
       "      <td>2000</td>\n",
       "      <td>2000</td>\n",
       "      <td>1</td>\n",
       "    </tr>\n",
       "  </tbody>\n",
       "</table>\n",
       "<p>41106 rows × 18 columns</p>\n",
       "</div>"
      ],
      "text/plain": [
       "       danceability  energy  key  loudness  mode  speechiness  acousticness  \\\n",
       "0             0.342   0.462    4   -12.931     0       0.0389       0.51400   \n",
       "1             0.861   0.519    2    -6.404     1       0.1120       0.13600   \n",
       "2             0.900   0.916    1    -7.481     0       0.1150       0.22000   \n",
       "3             0.714   0.301    2   -14.800     1       0.1230       0.15600   \n",
       "4             0.661   0.645    4   -13.520     1       0.0487       0.00895   \n",
       "...             ...     ...  ...       ...   ...          ...           ...   \n",
       "41101         0.435   0.834   10   -10.762     1       0.0415       0.78900   \n",
       "41102         0.499   0.880    6    -6.424     0       0.0654       0.01080   \n",
       "41103         0.326   0.816    8   -14.825     1       0.0527       0.88100   \n",
       "41104         0.659   0.257    9   -16.552     1       0.0382       0.89000   \n",
       "41105         0.502   0.938    9    -3.114     1       0.1300       0.00098   \n",
       "\n",
       "       instrumentalness  liveness  valence    tempo  duration_ms  \\\n",
       "0              0.018100    0.0977    0.397   98.466       816867   \n",
       "1              0.000000    0.1230    0.519   81.966       254533   \n",
       "2              0.000141    0.0323    0.538  102.916       277894   \n",
       "3              0.661000    0.2290    0.651   74.856       357671   \n",
       "4              0.000000    0.0362    0.930  136.693       204640   \n",
       "...                 ...       ...      ...      ...          ...   \n",
       "41101          0.422000    0.9320    0.708  114.130       263067   \n",
       "41102          0.000028    0.2260    0.390  147.899       264800   \n",
       "41103          0.326000    0.1850    0.826  147.213       259267   \n",
       "41104          0.000140    0.2520    0.222  102.977       228160   \n",
       "41105          0.000000    0.3180    0.350  144.077       200347   \n",
       "\n",
       "       time_signature  chorus_hit  sections  decade  year  hit  \n",
       "0                   4    24.84938        33    1970  1970    0  \n",
       "1                   4    50.03590        11    2000  2000    1  \n",
       "2                   4    24.71271        16    1980  1980    0  \n",
       "3                   4   104.64231        11    1970  1970    0  \n",
       "4                   4    31.99617        10    1970  1970    1  \n",
       "...               ...         ...       ...     ...   ...  ...  \n",
       "41101               4    17.81915        10    1960  1960    0  \n",
       "41102               4    55.42304        11    2000  2000    1  \n",
       "41103               4    25.73316        13    1960  1960    1  \n",
       "41104               4    20.91621        13    1970  1970    1  \n",
       "41105               4    39.34273         6    2000  2000    1  \n",
       "\n",
       "[41106 rows x 18 columns]"
      ]
     },
     "execution_count": 58,
     "metadata": {},
     "output_type": "execute_result"
    }
   ],
   "source": [
    "X"
   ]
  },
  {
   "cell_type": "code",
   "execution_count": null,
   "id": "70098183",
   "metadata": {},
   "outputs": [],
   "source": []
  },
  {
   "cell_type": "code",
   "execution_count": 59,
   "id": "0e98ad93",
   "metadata": {
    "execution": {
     "iopub.execute_input": "2022-10-19T12:07:04.153754Z",
     "iopub.status.busy": "2022-10-19T12:07:04.153257Z",
     "iopub.status.idle": "2022-10-19T12:07:04.164347Z",
     "shell.execute_reply": "2022-10-19T12:07:04.162848Z"
    },
    "papermill": {
     "duration": 0.021959,
     "end_time": "2022-10-19T12:07:04.166922",
     "exception": false,
     "start_time": "2022-10-19T12:07:04.144963",
     "status": "completed"
    },
    "tags": []
   },
   "outputs": [
    {
     "data": {
      "text/plain": [
       "0        0\n",
       "1        1\n",
       "2        0\n",
       "3        0\n",
       "4        1\n",
       "        ..\n",
       "41101    0\n",
       "41102    1\n",
       "41103    1\n",
       "41104    1\n",
       "41105    1\n",
       "Name: target, Length: 41106, dtype: int64"
      ]
     },
     "execution_count": 59,
     "metadata": {},
     "output_type": "execute_result"
    }
   ],
   "source": [
    "y"
   ]
  },
  {
   "cell_type": "code",
   "execution_count": 60,
   "id": "7d255a63",
   "metadata": {
    "execution": {
     "iopub.execute_input": "2022-10-19T12:07:04.182239Z",
     "iopub.status.busy": "2022-10-19T12:07:04.181741Z",
     "iopub.status.idle": "2022-10-19T12:07:04.212828Z",
     "shell.execute_reply": "2022-10-19T12:07:04.211387Z"
    },
    "papermill": {
     "duration": 0.042333,
     "end_time": "2022-10-19T12:07:04.215859",
     "exception": false,
     "start_time": "2022-10-19T12:07:04.173526",
     "status": "completed"
    },
    "tags": []
   },
   "outputs": [],
   "source": [
    "\n",
    "\n",
    "#Split train-test data into 7:3 (for RFC)\n",
    "X_train, X_test, y_train, y_test = train_test_split(X, y, train_size = 0.7, shuffle = True, random_state = 1)\n",
    "\n",
    "\n",
    "#Scale \n",
    "\n",
    "X_train = pd.DataFrame(preprocessing.robust_scale(X_train), index=X_train.index)\n",
    "X_test = pd.DataFrame(preprocessing.robust_scale(X_test), index=X_test.index)"
   ]
  },
  {
   "cell_type": "code",
   "execution_count": 61,
   "id": "ee31bc6f",
   "metadata": {
    "execution": {
     "iopub.execute_input": "2022-10-19T12:07:04.232526Z",
     "iopub.status.busy": "2022-10-19T12:07:04.232036Z",
     "iopub.status.idle": "2022-10-19T12:07:04.263107Z",
     "shell.execute_reply": "2022-10-19T12:07:04.261546Z"
    },
    "papermill": {
     "duration": 0.042377,
     "end_time": "2022-10-19T12:07:04.265760",
     "exception": false,
     "start_time": "2022-10-19T12:07:04.223383",
     "status": "completed"
    },
    "tags": []
   },
   "outputs": [
    {
     "data": {
      "text/html": [
       "<div>\n",
       "<style scoped>\n",
       "    .dataframe tbody tr th:only-of-type {\n",
       "        vertical-align: middle;\n",
       "    }\n",
       "\n",
       "    .dataframe tbody tr th {\n",
       "        vertical-align: top;\n",
       "    }\n",
       "\n",
       "    .dataframe thead th {\n",
       "        text-align: right;\n",
       "    }\n",
       "</style>\n",
       "<table border=\"1\" class=\"dataframe\">\n",
       "  <thead>\n",
       "    <tr style=\"text-align: right;\">\n",
       "      <th></th>\n",
       "      <th>0</th>\n",
       "      <th>1</th>\n",
       "      <th>2</th>\n",
       "      <th>3</th>\n",
       "      <th>4</th>\n",
       "      <th>5</th>\n",
       "      <th>6</th>\n",
       "      <th>7</th>\n",
       "      <th>8</th>\n",
       "      <th>9</th>\n",
       "      <th>10</th>\n",
       "      <th>11</th>\n",
       "      <th>12</th>\n",
       "      <th>13</th>\n",
       "      <th>14</th>\n",
       "      <th>15</th>\n",
       "      <th>16</th>\n",
       "      <th>17</th>\n",
       "    </tr>\n",
       "  </thead>\n",
       "  <tbody>\n",
       "    <tr>\n",
       "      <th>17085</th>\n",
       "      <td>-0.618474</td>\n",
       "      <td>-0.795918</td>\n",
       "      <td>-0.500000</td>\n",
       "      <td>-1.057926</td>\n",
       "      <td>0.0</td>\n",
       "      <td>-0.302521</td>\n",
       "      <td>1.016923</td>\n",
       "      <td>14.046411</td>\n",
       "      <td>-0.341332</td>\n",
       "      <td>-0.378657</td>\n",
       "      <td>0.487920</td>\n",
       "      <td>1.302007</td>\n",
       "      <td>0.0</td>\n",
       "      <td>0.105797</td>\n",
       "      <td>1.50</td>\n",
       "      <td>-0.333333</td>\n",
       "      <td>-0.333333</td>\n",
       "      <td>-1.0</td>\n",
       "    </tr>\n",
       "    <tr>\n",
       "      <th>5559</th>\n",
       "      <td>-1.365462</td>\n",
       "      <td>0.895408</td>\n",
       "      <td>0.166667</td>\n",
       "      <td>0.783520</td>\n",
       "      <td>-1.0</td>\n",
       "      <td>1.512605</td>\n",
       "      <td>-0.293012</td>\n",
       "      <td>0.468992</td>\n",
       "      <td>0.779844</td>\n",
       "      <td>-0.371773</td>\n",
       "      <td>0.271877</td>\n",
       "      <td>-0.332228</td>\n",
       "      <td>0.0</td>\n",
       "      <td>2.473598</td>\n",
       "      <td>-1.25</td>\n",
       "      <td>0.000000</td>\n",
       "      <td>0.000000</td>\n",
       "      <td>-1.0</td>\n",
       "    </tr>\n",
       "    <tr>\n",
       "      <th>32888</th>\n",
       "      <td>-0.200803</td>\n",
       "      <td>0.568878</td>\n",
       "      <td>-0.833333</td>\n",
       "      <td>0.539484</td>\n",
       "      <td>0.0</td>\n",
       "      <td>-0.131653</td>\n",
       "      <td>0.289878</td>\n",
       "      <td>-0.001976</td>\n",
       "      <td>1.769646</td>\n",
       "      <td>0.580608</td>\n",
       "      <td>0.951156</td>\n",
       "      <td>0.504895</td>\n",
       "      <td>0.0</td>\n",
       "      <td>-0.576751</td>\n",
       "      <td>0.75</td>\n",
       "      <td>0.000000</td>\n",
       "      <td>0.000000</td>\n",
       "      <td>-1.0</td>\n",
       "    </tr>\n",
       "    <tr>\n",
       "      <th>14170</th>\n",
       "      <td>-0.871486</td>\n",
       "      <td>0.895408</td>\n",
       "      <td>-0.166667</td>\n",
       "      <td>0.456700</td>\n",
       "      <td>-1.0</td>\n",
       "      <td>0.473389</td>\n",
       "      <td>-0.401124</td>\n",
       "      <td>4.223831</td>\n",
       "      <td>0.911818</td>\n",
       "      <td>-0.112450</td>\n",
       "      <td>-0.528102</td>\n",
       "      <td>1.023342</td>\n",
       "      <td>0.0</td>\n",
       "      <td>1.455086</td>\n",
       "      <td>1.25</td>\n",
       "      <td>0.666667</td>\n",
       "      <td>0.666667</td>\n",
       "      <td>-1.0</td>\n",
       "    </tr>\n",
       "    <tr>\n",
       "      <th>7958</th>\n",
       "      <td>0.421687</td>\n",
       "      <td>-0.867347</td>\n",
       "      <td>-0.833333</td>\n",
       "      <td>0.030755</td>\n",
       "      <td>0.0</td>\n",
       "      <td>-0.425770</td>\n",
       "      <td>0.466938</td>\n",
       "      <td>-0.001976</td>\n",
       "      <td>0.083983</td>\n",
       "      <td>-0.658635</td>\n",
       "      <td>-0.885180</td>\n",
       "      <td>-0.672603</td>\n",
       "      <td>0.0</td>\n",
       "      <td>-0.314002</td>\n",
       "      <td>-0.75</td>\n",
       "      <td>-0.333333</td>\n",
       "      <td>-0.333333</td>\n",
       "      <td>0.0</td>\n",
       "    </tr>\n",
       "    <tr>\n",
       "      <th>...</th>\n",
       "      <td>...</td>\n",
       "      <td>...</td>\n",
       "      <td>...</td>\n",
       "      <td>...</td>\n",
       "      <td>...</td>\n",
       "      <td>...</td>\n",
       "      <td>...</td>\n",
       "      <td>...</td>\n",
       "      <td>...</td>\n",
       "      <td>...</td>\n",
       "      <td>...</td>\n",
       "      <td>...</td>\n",
       "      <td>...</td>\n",
       "      <td>...</td>\n",
       "      <td>...</td>\n",
       "      <td>...</td>\n",
       "      <td>...</td>\n",
       "      <td>...</td>\n",
       "    </tr>\n",
       "    <tr>\n",
       "      <th>7813</th>\n",
       "      <td>0.714859</td>\n",
       "      <td>0.992347</td>\n",
       "      <td>0.666667</td>\n",
       "      <td>0.715073</td>\n",
       "      <td>-1.0</td>\n",
       "      <td>0.159664</td>\n",
       "      <td>-0.385146</td>\n",
       "      <td>-0.001258</td>\n",
       "      <td>1.865627</td>\n",
       "      <td>0.647160</td>\n",
       "      <td>0.223301</td>\n",
       "      <td>1.434375</td>\n",
       "      <td>0.0</td>\n",
       "      <td>-0.877128</td>\n",
       "      <td>1.50</td>\n",
       "      <td>0.000000</td>\n",
       "      <td>0.000000</td>\n",
       "      <td>0.0</td>\n",
       "    </tr>\n",
       "    <tr>\n",
       "      <th>32511</th>\n",
       "      <td>-0.931727</td>\n",
       "      <td>0.326531</td>\n",
       "      <td>-0.500000</td>\n",
       "      <td>-0.256292</td>\n",
       "      <td>-1.0</td>\n",
       "      <td>3.380952</td>\n",
       "      <td>0.054842</td>\n",
       "      <td>-0.001891</td>\n",
       "      <td>0.275945</td>\n",
       "      <td>-0.270797</td>\n",
       "      <td>1.480700</td>\n",
       "      <td>2.583747</td>\n",
       "      <td>0.0</td>\n",
       "      <td>1.185997</td>\n",
       "      <td>1.25</td>\n",
       "      <td>-0.333333</td>\n",
       "      <td>-0.333333</td>\n",
       "      <td>-1.0</td>\n",
       "    </tr>\n",
       "    <tr>\n",
       "      <th>5192</th>\n",
       "      <td>-0.630522</td>\n",
       "      <td>-0.806122</td>\n",
       "      <td>1.000000</td>\n",
       "      <td>-1.285467</td>\n",
       "      <td>-1.0</td>\n",
       "      <td>-0.252101</td>\n",
       "      <td>0.040740</td>\n",
       "      <td>-0.001956</td>\n",
       "      <td>0.485903</td>\n",
       "      <td>-0.087206</td>\n",
       "      <td>-0.580378</td>\n",
       "      <td>-0.667782</td>\n",
       "      <td>0.0</td>\n",
       "      <td>-0.085333</td>\n",
       "      <td>-0.50</td>\n",
       "      <td>0.333333</td>\n",
       "      <td>0.333333</td>\n",
       "      <td>-1.0</td>\n",
       "    </tr>\n",
       "    <tr>\n",
       "      <th>12172</th>\n",
       "      <td>0.092369</td>\n",
       "      <td>0.818878</td>\n",
       "      <td>-0.833333</td>\n",
       "      <td>0.540255</td>\n",
       "      <td>-1.0</td>\n",
       "      <td>0.733894</td>\n",
       "      <td>-0.398668</td>\n",
       "      <td>7.659315</td>\n",
       "      <td>3.221356</td>\n",
       "      <td>-0.690763</td>\n",
       "      <td>0.109131</td>\n",
       "      <td>1.054127</td>\n",
       "      <td>0.0</td>\n",
       "      <td>-0.117160</td>\n",
       "      <td>-1.00</td>\n",
       "      <td>0.666667</td>\n",
       "      <td>0.666667</td>\n",
       "      <td>-1.0</td>\n",
       "    </tr>\n",
       "    <tr>\n",
       "      <th>33003</th>\n",
       "      <td>0.180723</td>\n",
       "      <td>-0.344388</td>\n",
       "      <td>0.666667</td>\n",
       "      <td>0.114156</td>\n",
       "      <td>0.0</td>\n",
       "      <td>-0.504202</td>\n",
       "      <td>0.202131</td>\n",
       "      <td>-0.001976</td>\n",
       "      <td>-0.155969</td>\n",
       "      <td>-0.956971</td>\n",
       "      <td>-1.140537</td>\n",
       "      <td>0.080518</td>\n",
       "      <td>0.0</td>\n",
       "      <td>0.887912</td>\n",
       "      <td>-0.50</td>\n",
       "      <td>0.666667</td>\n",
       "      <td>0.666667</td>\n",
       "      <td>0.0</td>\n",
       "    </tr>\n",
       "  </tbody>\n",
       "</table>\n",
       "<p>28774 rows × 18 columns</p>\n",
       "</div>"
      ],
      "text/plain": [
       "             0         1         2         3    4         5         6   \\\n",
       "17085 -0.618474 -0.795918 -0.500000 -1.057926  0.0 -0.302521  1.016923   \n",
       "5559  -1.365462  0.895408  0.166667  0.783520 -1.0  1.512605 -0.293012   \n",
       "32888 -0.200803  0.568878 -0.833333  0.539484  0.0 -0.131653  0.289878   \n",
       "14170 -0.871486  0.895408 -0.166667  0.456700 -1.0  0.473389 -0.401124   \n",
       "7958   0.421687 -0.867347 -0.833333  0.030755  0.0 -0.425770  0.466938   \n",
       "...         ...       ...       ...       ...  ...       ...       ...   \n",
       "7813   0.714859  0.992347  0.666667  0.715073 -1.0  0.159664 -0.385146   \n",
       "32511 -0.931727  0.326531 -0.500000 -0.256292 -1.0  3.380952  0.054842   \n",
       "5192  -0.630522 -0.806122  1.000000 -1.285467 -1.0 -0.252101  0.040740   \n",
       "12172  0.092369  0.818878 -0.833333  0.540255 -1.0  0.733894 -0.398668   \n",
       "33003  0.180723 -0.344388  0.666667  0.114156  0.0 -0.504202  0.202131   \n",
       "\n",
       "              7         8         9         10        11   12        13    14  \\\n",
       "17085  14.046411 -0.341332 -0.378657  0.487920  1.302007  0.0  0.105797  1.50   \n",
       "5559    0.468992  0.779844 -0.371773  0.271877 -0.332228  0.0  2.473598 -1.25   \n",
       "32888  -0.001976  1.769646  0.580608  0.951156  0.504895  0.0 -0.576751  0.75   \n",
       "14170   4.223831  0.911818 -0.112450 -0.528102  1.023342  0.0  1.455086  1.25   \n",
       "7958   -0.001976  0.083983 -0.658635 -0.885180 -0.672603  0.0 -0.314002 -0.75   \n",
       "...          ...       ...       ...       ...       ...  ...       ...   ...   \n",
       "7813   -0.001258  1.865627  0.647160  0.223301  1.434375  0.0 -0.877128  1.50   \n",
       "32511  -0.001891  0.275945 -0.270797  1.480700  2.583747  0.0  1.185997  1.25   \n",
       "5192   -0.001956  0.485903 -0.087206 -0.580378 -0.667782  0.0 -0.085333 -0.50   \n",
       "12172   7.659315  3.221356 -0.690763  0.109131  1.054127  0.0 -0.117160 -1.00   \n",
       "33003  -0.001976 -0.155969 -0.956971 -1.140537  0.080518  0.0  0.887912 -0.50   \n",
       "\n",
       "             15        16   17  \n",
       "17085 -0.333333 -0.333333 -1.0  \n",
       "5559   0.000000  0.000000 -1.0  \n",
       "32888  0.000000  0.000000 -1.0  \n",
       "14170  0.666667  0.666667 -1.0  \n",
       "7958  -0.333333 -0.333333  0.0  \n",
       "...         ...       ...  ...  \n",
       "7813   0.000000  0.000000  0.0  \n",
       "32511 -0.333333 -0.333333 -1.0  \n",
       "5192   0.333333  0.333333 -1.0  \n",
       "12172  0.666667  0.666667 -1.0  \n",
       "33003  0.666667  0.666667  0.0  \n",
       "\n",
       "[28774 rows x 18 columns]"
      ]
     },
     "execution_count": 61,
     "metadata": {},
     "output_type": "execute_result"
    }
   ],
   "source": [
    "X_train"
   ]
  },
  {
   "cell_type": "code",
   "execution_count": 62,
   "id": "e1b3e04b",
   "metadata": {
    "execution": {
     "iopub.execute_input": "2022-10-19T12:07:04.282762Z",
     "iopub.status.busy": "2022-10-19T12:07:04.281636Z",
     "iopub.status.idle": "2022-10-19T12:07:04.292256Z",
     "shell.execute_reply": "2022-10-19T12:07:04.290603Z"
    },
    "papermill": {
     "duration": 0.022452,
     "end_time": "2022-10-19T12:07:04.295371",
     "exception": false,
     "start_time": "2022-10-19T12:07:04.272919",
     "status": "completed"
    },
    "tags": []
   },
   "outputs": [
    {
     "data": {
      "text/plain": [
       "17085    0\n",
       "5559     0\n",
       "32888    0\n",
       "14170    0\n",
       "7958     1\n",
       "        ..\n",
       "7813     1\n",
       "32511    0\n",
       "5192     0\n",
       "12172    0\n",
       "33003    1\n",
       "Name: target, Length: 28774, dtype: int64"
      ]
     },
     "execution_count": 62,
     "metadata": {},
     "output_type": "execute_result"
    }
   ],
   "source": [
    "y_train"
   ]
  },
  {
   "cell_type": "code",
   "execution_count": 63,
   "id": "ef4ea83e",
   "metadata": {
    "execution": {
     "iopub.execute_input": "2022-10-19T12:07:04.313388Z",
     "iopub.status.busy": "2022-10-19T12:07:04.312915Z",
     "iopub.status.idle": "2022-10-19T12:07:16.104726Z",
     "shell.execute_reply": "2022-10-19T12:07:16.102937Z"
    },
    "papermill": {
     "duration": 11.804782,
     "end_time": "2022-10-19T12:07:16.107927",
     "exception": false,
     "start_time": "2022-10-19T12:07:04.303145",
     "status": "completed"
    },
    "tags": []
   },
   "outputs": [
    {
     "name": "stdout",
     "output_type": "stream",
     "text": [
      "                   Logistic Regression trained.\n",
      "                   K-Nearest Neighbors trained.\n",
      "                         Decision Tree trained.\n"
     ]
    },
    {
     "name": "stderr",
     "output_type": "stream",
     "text": [
      "C:\\Users\\m\\AppData\\Local\\Packages\\PythonSoftwareFoundation.Python.3.10_qbz5n2kfra8p0\\LocalCache\\local-packages\\Python310\\site-packages\\sklearn\\svm\\_base.py:1225: ConvergenceWarning: Liblinear failed to converge, increase the number of iterations.\n",
      "  warnings.warn(\n"
     ]
    },
    {
     "name": "stdout",
     "output_type": "stream",
     "text": [
      "Support Vector Machine (Linear Kernel) trained.\n",
      "   Support Vector Machine (RBF Kernel) trained.\n",
      "                        Neural Network trained.\n",
      "                         Random Forest trained.\n",
      "                     Gradient Boosting trained.\n"
     ]
    }
   ],
   "source": [
    "models = {\n",
    "    \"                   Logistic Regression\": LogisticRegression(),\n",
    "    \"                   K-Nearest Neighbors\": KNeighborsClassifier(),\n",
    "    \"                         Decision Tree\": DecisionTreeClassifier(),\n",
    "    \"Support Vector Machine (Linear Kernel)\": LinearSVC(),\n",
    "    \"   Support Vector Machine (RBF Kernel)\": SVC(),\n",
    "    \"                        Neural Network\": MLPClassifier(),\n",
    "    \"                         Random Forest\": RandomForestClassifier(),\n",
    "    \"                     Gradient Boosting\": GradientBoostingClassifier()\n",
    "}\n",
    "\n",
    "for name, model in models.items():\n",
    "    model.fit(X_train, y_train)\n",
    "    print(name + \" trained.\")"
   ]
  },
  {
   "cell_type": "code",
   "execution_count": 64,
   "id": "6e257fdc",
   "metadata": {
    "execution": {
     "iopub.execute_input": "2022-10-19T12:07:16.128399Z",
     "iopub.status.busy": "2022-10-19T12:07:16.126759Z",
     "iopub.status.idle": "2022-10-19T12:07:16.811297Z",
     "shell.execute_reply": "2022-10-19T12:07:16.809989Z"
    },
    "papermill": {
     "duration": 0.697981,
     "end_time": "2022-10-19T12:07:16.814997",
     "exception": false,
     "start_time": "2022-10-19T12:07:16.117016",
     "status": "completed"
    },
    "tags": []
   },
   "outputs": [
    {
     "name": "stdout",
     "output_type": "stream",
     "text": [
      "                   Logistic Regression: 49.97%\n",
      "                   K-Nearest Neighbors: 70.55%\n",
      "                         Decision Tree: 49.97%\n",
      "Support Vector Machine (Linear Kernel): 49.97%\n",
      "   Support Vector Machine (RBF Kernel): 51.47%\n",
      "                        Neural Network: 49.97%\n",
      "                         Random Forest: 49.97%\n",
      "                     Gradient Boosting: 49.97%\n"
     ]
    }
   ],
   "source": [
    "for name, model in models.items():\n",
    "    print(name + \": {:.2f}%\".format(model.score(X_test, y_test) * 100))"
   ]
  },
  {
   "cell_type": "code",
   "execution_count": 65,
   "id": "6314ebf2",
   "metadata": {
    "execution": {
     "iopub.execute_input": "2022-10-19T12:07:16.843829Z",
     "iopub.status.busy": "2022-10-19T12:07:16.843156Z",
     "iopub.status.idle": "2022-10-19T12:07:18.079007Z",
     "shell.execute_reply": "2022-10-19T12:07:18.077317Z"
    },
    "papermill": {
     "duration": 1.253051,
     "end_time": "2022-10-19T12:07:18.081849",
     "exception": false,
     "start_time": "2022-10-19T12:07:16.828798",
     "status": "completed"
    },
    "tags": []
   },
   "outputs": [],
   "source": [
    "clf=RandomForestClassifier()\n",
    "\n",
    "#Train the model using the training sets y_pred=clf.predict(X_test)\n",
    "clf.fit(X_train,y_train)\n",
    "\n",
    "y_pred=clf.predict(X_test)"
   ]
  },
  {
   "cell_type": "code",
   "execution_count": 66,
   "id": "b6483c5c",
   "metadata": {},
   "outputs": [],
   "source": [
    "import joblib"
   ]
  },
  {
   "cell_type": "code",
   "execution_count": 67,
   "id": "a6c50171",
   "metadata": {},
   "outputs": [
    {
     "data": {
      "text/plain": [
       "['clf.pkl']"
      ]
     },
     "execution_count": 67,
     "metadata": {},
     "output_type": "execute_result"
    }
   ],
   "source": [
    "joblib.dump(clf, 'clf.pkl')"
   ]
  }
 ],
 "metadata": {
  "kernelspec": {
   "display_name": "Python 3",
   "language": "python",
   "name": "python3"
  },
  "language_info": {
   "codemirror_mode": {
    "name": "ipython",
    "version": 3
   },
   "file_extension": ".py",
   "mimetype": "text/x-python",
   "name": "python",
   "nbconvert_exporter": "python",
   "pygments_lexer": "ipython3",
   "version": "3.10.9"
  },
  "papermill": {
   "default_parameters": {},
   "duration": 26.033561,
   "end_time": "2022-10-19T12:07:18.888579",
   "environment_variables": {},
   "exception": null,
   "input_path": "__notebook__.ipynb",
   "output_path": "__notebook__.ipynb",
   "parameters": {},
   "start_time": "2022-10-19T12:06:52.855018",
   "version": "2.3.4"
  },
  "vscode": {
   "interpreter": {
    "hash": "3ecbc0066e26af18b75dcbb3b8c14a382d2ff399af65bb55611750357d034600"
   }
  }
 },
 "nbformat": 4,
 "nbformat_minor": 5
}
